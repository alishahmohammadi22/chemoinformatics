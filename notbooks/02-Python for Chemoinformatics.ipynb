{
 "cells": [
  {
   "cell_type": "markdown",
   "metadata": {},
   "source": [
    "# Introduction to RDKit in Jupyter Notebook\n",
    "## Introduction to RDKit\n",
    "\n",
    "RDKit (Rational-Design Toolkit) is a widely-used open-source cheminformatics software package that provides a comprehensive set of tools for molecular modeling, chemical informatics, and drug discovery. Developed and maintained by an active community of researchers and developers, RDKit has become an indispensable resource in the field of computational chemistry and drug design.\n",
    "\n",
    "### What is RDKit?\n",
    "\n",
    "RDKit is a collection of algorithms and data structures for the representation, manipulation, and analysis of chemical structures and reactions. It is written in C++ with Python bindings, allowing seamless integration with the Python programming language, which is widely used in the scientific community.\n",
    "\n",
    "RDKit supports a variety of cheminformatics tasks, including:\n",
    "\n",
    "1. **Molecular Representation**: RDKit provides efficient data structures and algorithms for representing and manipulating chemical compounds, including the handling of 2D and 3D molecular structures, atom and bond properties, and more.\n",
    "\n",
    "2. **Molecule Parsing and I/O**: RDKit can read and write a variety of chemical file formats, such as SMILES, SDF, and more, enabling easy integration with other cheminformatics tools and databases.\n",
    "\n",
    "3. **Molecular Descriptors and Fingerprints**: RDKit offers a rich set of molecular descriptors and fingerprints, which are useful for tasks like similarity searching, virtual screening, and machine learning.\n",
    "\n",
    "4. **Reaction Handling**: RDKit can represent and manipulate chemical reactions, including the ability to perform retrosynthetic analysis and reaction prediction.\n",
    "\n",
    "5. **Visualization**: RDKit provides functionality for visualizing molecular structures, reactions, and other cheminformatics data using both 2D and 3D rendering.\n",
    "\n",
    "6. **Machine Learning**: RDKit integrates with popular machine learning libraries, such as scikit-learn and TensorFlow, enabling the development of predictive models for various tasks, including activity prediction, property estimation, and more.\n",
    "\n",
    "### Why use RDKit?\n",
    "\n",
    "RDKit is a powerful and versatile cheminformatics tool that offers several key advantages:\n",
    "\n",
    "1. **Open-Source and Cross-Platform**: RDKit is an open-source project, which means it is freely available and can be customized and extended by the community. It is also cross-platform, supporting Windows, macOS, and Linux.\n",
    "\n",
    "2. **Comprehensive Functionality**: RDKit provides a wide range of features and functionality for various cheminformatics tasks, making it a one-stop-shop for many researchers and developers working in this field.\n",
    "\n",
    "3. **Performance and Scalability**: RDKit is designed with performance and scalability in mind, allowing it to handle large chemical databases and complex computations efficiently.\n",
    "\n",
    "4. **Integration with Python Ecosystem**: RDKit's Python bindings seamlessly integrate with the broader Python ecosystem, allowing easy interoperability with other popular scientific computing libraries, such as NumPy, Pandas, and scikit-learn.\n",
    "\n",
    "5. **Active Community and Documentation**: RDKit has a vibrant community of users and contributors, providing extensive documentation, tutorials, and support resources to help users get started and stay up-to-date with the latest developments"
   ]
  },
  {
   "cell_type": "markdown",
   "metadata": {},
   "source": [
    "# RDKit Fundamentals: A Comprehensive Guide\n",
    "\n",
    "This notebook provides a detailed exploration of RDKit, a powerful cheminformatics library in Python for working with molecular structures, chemical informatics, and computational chemistry.\n",
    "\n",
    "## Table of Contents\n",
    "1. [Installation and Importing](#installation-and-importing)\n",
    "2. [Creating Molecules](#creating-molecules)\n",
    "3. [Molecule Properties](#molecule-properties)\n",
    "4. [Molecular Manipulation](#molecular-manipulation)\n",
    "5. [Structural Analysis](#structural-analysis)\n",
    "6. [Molecular Descriptors](#molecular-descriptors)\n",
    "7. [Chemical Reactions](#chemical-reactions)\n",
    "8. [Substructure Searching](#substructure-searching)\n",
    "9. [Molecular Visualization](#molecular-visualization)\n",
    "10. [Advanced Techniques](#advanced-techniques)\n"
   ]
  },
  {
   "cell_type": "markdown",
   "metadata": {},
   "source": [
    "\n",
    "## 1. Installation and Importing\n",
    "\n",
    "To ensure that all dependencies are installed and to avoid conflicts with other projects, it's recommended to create a virtual environment. Follow the steps below to create and activate a virtual environment, and install the required packages:\n",
    "\n",
    "1. Create a virtual environment:\n",
    "    ```bash\n",
    "    python3 -m venv myvenv\n",
    "    ```\n",
    "\n",
    "2. Activate the virtual environment:\n",
    "    ```bash\n",
    "    source myvenv/bin/activate\n",
    "    ```\n",
    "\n",
    "3. Install the required packages from `requirements.txt`:\n",
    "    ```bash\n",
    "    pip install -r requirements.txt\n",
    "    ```\n",
    "\n",
    "4. Install the `ipykernel` package:\n",
    "    ```bash\n",
    "    pip install ipykernel\n",
    "    ```\n",
    "\n",
    "5. Add the virtual environment to Jupyter:\n",
    "    ```bash\n",
    "    python -m ipykernel install --user --name=myvenv --display-name \"myvenv\"\n",
    "    ```\n",
    "\n",
    "Now you can select the `myvenv` kernel in Jupyter Notebook to ensure you are using the virtual environment.\n"
   ]
  },
  {
   "cell_type": "markdown",
   "metadata": {},
   "source": [
    "\n",
    "\n",
    "\n",
    "To work with RDKit in this notebook, we need to import several libraries. These libraries will help us with tasks such as chemistry operations, drawing molecular structures, and displaying molecules in a grid. Below are the necessary imports:\n",
    "\n"
   ]
  },
  {
   "cell_type": "code",
   "execution_count": 2,
   "metadata": {},
   "outputs": [],
   "source": [
    "from rdkit.Chem.Draw import IPythonConsole\n",
    "from rdkit.Chem import rdDepictor\n",
    "from rdkit import Chem\n",
    "from rdkit.Chem.Draw import MolsToGridImage\n",
    "from rdkit.Chem import AllChem, Descriptors, Draw\n",
    "import numpy as np\n",
    "\n",
    "# Configure RDKit visualization\n",
    "IPythonConsole.ipython_useSVG = True\n",
    "IPythonConsole.molSize = (300, 300)\n",
    "rdDepictor.SetPreferCoordGen(True)"
   ]
  },
  {
   "cell_type": "markdown",
   "metadata": {},
   "source": [
    "## Understanding SMILES\n",
    "SMILES (**S**implified **M**olecular **I**nput **L**ine **E**ntry **S**ystem) is a text-based notation for representing chemical structures. \n",
    "Developed in the 1980s, SMILES is compact, human-readable, and widely used for representing molecular structures programmatically."
   ]
  },
  {
   "cell_type": "markdown",
   "metadata": {},
   "source": [
    "## 2. Creating Molecules\n",
    "### 2.1 Creating Molecules from SMILES"
   ]
  },
  {
   "cell_type": "code",
   "execution_count": null,
   "metadata": {},
   "outputs": [
    {
     "name": "stdout",
     "output_type": "stream",
     "text": [
      "Ethanol SMILES: CCO\n",
      "Benzene SMILES: c1ccccc1\n",
      "Aspirin SMILES: CC(=O)Oc1ccccc1C(=O)O\n"
     ]
    }
   ],
   "source": [
    "# Create molecules from SMILES strings\n",
    "ethanol = Chem.MolFromSmiles('CCO')\n",
    "benzene = Chem.MolFromSmiles('c1ccccc1')\n",
    "aspirin = Chem.MolFromSmiles('CC(=O)OC1=CC=CC=C1C(=O)O')\n",
    "\n",
    "# Verify molecule creation\n",
    "print(\"Ethanol SMILES:\", Chem.MolToSmiles(ethanol))\n",
    "print(\"Benzene SMILES:\", Chem.MolToSmiles(benzene))\n",
    "print(\"Aspirin SMILES:\", Chem.MolToSmiles(aspirin))"
   ]
  },
  {
   "cell_type": "code",
   "execution_count": 8,
   "metadata": {},
   "outputs": [
    {
     "data": {
      "image/png": "[encoded data removed]",
      "image/svg+xml": [
       "<?xml version='1.0' encoding='iso-8859-1'?>\n",
       "<svg version='1.1' baseProfile='full'\n",
       "              xmlns='http://www.w3.org/2000/svg'\n",
       "                      xmlns:rdkit='http://www.rdkit.org/xml'\n",
       "                      xmlns:xlink='http://www.w3.org/1999/xlink'\n",
       "                  xml:space='preserve'\n",
       "width='300px' height='300px' viewBox='0 0 300 300'>\n",
       "<!-- END OF HEADER -->\n",
       "<rect style='opacity:1.0;fill:#FFFFFF;stroke:none' width='300.0' height='300.0' x='0.0' y='0.0'> </rect>\n",
       "<path class='bond-0 atom-0 atom-1' d='M 269.9,162.7 L 177.4,109.2' style='fill:none;fill-rule:evenodd;stroke:#000000;stroke-width:2.0px;stroke-linecap:butt;stroke-linejoin:miter;stroke-opacity:1' />\n",
       "<path class='bond-1 atom-1 atom-2' d='M 177.4,109.2 L 138.2,131.7' style='fill:none;fill-rule:evenodd;stroke:#000000;stroke-width:2.0px;stroke-linecap:butt;stroke-linejoin:miter;stroke-opacity:1' />\n",
       "<path class='bond-1 atom-1 atom-2' d='M 138.2,131.7 L 99.0,154.3' style='fill:none;fill-rule:evenodd;stroke:#0000FF;stroke-width:2.0px;stroke-linecap:butt;stroke-linejoin:miter;stroke-opacity:1' />\n",
       "<path d='M 182.0,111.8 L 177.4,109.2 L 175.4,110.3' style='fill:none;stroke:#000000;stroke-width:2.0px;stroke-linecap:butt;stroke-linejoin:miter;stroke-opacity:1;' />\n",
       "<path class='atom-2' d='M 30.1 148.4\n",
       "L 34.0 148.4\n",
       "L 34.0 160.4\n",
       "L 48.4 160.4\n",
       "L 48.4 148.4\n",
       "L 52.3 148.4\n",
       "L 52.3 176.7\n",
       "L 48.4 176.7\n",
       "L 48.4 163.6\n",
       "L 34.0 163.6\n",
       "L 34.0 176.7\n",
       "L 30.1 176.7\n",
       "L 30.1 148.4\n",
       "' fill='#0000FF'/>\n",
       "<path class='atom-2' d='M 57.8 175.7\n",
       "Q 58.5 173.9, 60.1 172.9\n",
       "Q 61.8 171.9, 64.1 171.9\n",
       "Q 66.9 171.9, 68.5 173.5\n",
       "Q 70.0 175.0, 70.0 177.7\n",
       "Q 70.0 180.5, 68.0 183.1\n",
       "Q 66.0 185.7, 61.7 188.7\n",
       "L 70.4 188.7\n",
       "L 70.4 190.8\n",
       "L 57.8 190.8\n",
       "L 57.8 189.1\n",
       "Q 61.3 186.6, 63.3 184.7\n",
       "Q 65.4 182.9, 66.4 181.2\n",
       "Q 67.4 179.6, 67.4 177.9\n",
       "Q 67.4 176.1, 66.5 175.1\n",
       "Q 65.6 174.1, 64.1 174.1\n",
       "Q 62.5 174.1, 61.5 174.7\n",
       "Q 60.5 175.3, 59.8 176.6\n",
       "L 57.8 175.7\n",
       "' fill='#0000FF'/>\n",
       "<path class='atom-2' d='M 78.5 148.4\n",
       "L 87.8 163.4\n",
       "Q 88.7 164.8, 90.2 167.5\n",
       "Q 91.7 170.2, 91.8 170.4\n",
       "L 91.8 148.4\n",
       "L 95.5 148.4\n",
       "L 95.5 176.7\n",
       "L 91.6 176.7\n",
       "L 81.7 160.3\n",
       "Q 80.5 158.4, 79.3 156.2\n",
       "Q 78.1 154.0, 77.7 153.3\n",
       "L 77.7 176.7\n",
       "L 74.0 176.7\n",
       "L 74.0 148.4\n",
       "L 78.5 148.4\n",
       "' fill='#0000FF'/>\n",
       "</svg>\n"
      ],
      "text/html": [
       "<?xml version='1.0' encoding='iso-8859-1'?>\n",
       "<svg version='1.1' baseProfile='full'\n",
       "              xmlns='http://www.w3.org/2000/svg'\n",
       "                      xmlns:rdkit='http://www.rdkit.org/xml'\n",
       "                      xmlns:xlink='http://www.w3.org/1999/xlink'\n",
       "                  xml:space='preserve'\n",
       "width='300px' height='300px' viewBox='0 0 300 300'>\n",
       "<!-- END OF HEADER -->\n",
       "<rect style='opacity:1.0;fill:#FFFFFF;stroke:none' width='300.0' height='300.0' x='0.0' y='0.0'> </rect>\n",
       "<path class='bond-0 atom-0 atom-1' d='M 269.9,162.7 L 177.4,109.2' style='fill:none;fill-rule:evenodd;stroke:#000000;stroke-width:2.0px;stroke-linecap:butt;stroke-linejoin:miter;stroke-opacity:1' />\n",
       "<path class='bond-1 atom-1 atom-2' d='M 177.4,109.2 L 138.2,131.7' style='fill:none;fill-rule:evenodd;stroke:#000000;stroke-width:2.0px;stroke-linecap:butt;stroke-linejoin:miter;stroke-opacity:1' />\n",
       "<path class='bond-1 atom-1 atom-2' d='M 138.2,131.7 L 99.0,154.3' style='fill:none;fill-rule:evenodd;stroke:#0000FF;stroke-width:2.0px;stroke-linecap:butt;stroke-linejoin:miter;stroke-opacity:1' />\n",
       "<path d='M 182.0,111.8 L 177.4,109.2 L 175.4,110.3' style='fill:none;stroke:#000000;stroke-width:2.0px;stroke-linecap:butt;stroke-linejoin:miter;stroke-opacity:1;' />\n",
       "<path class='atom-2' d='M 30.1 148.4\n",
       "L 34.0 148.4\n",
       "L 34.0 160.4\n",
       "L 48.4 160.4\n",
       "L 48.4 148.4\n",
       "L 52.3 148.4\n",
       "L 52.3 176.7\n",
       "L 48.4 176.7\n",
       "L 48.4 163.6\n",
       "L 34.0 163.6\n",
       "L 34.0 176.7\n",
       "L 30.1 176.7\n",
       "L 30.1 148.4\n",
       "' fill='#0000FF'/>\n",
       "<path class='atom-2' d='M 57.8 175.7\n",
       "Q 58.5 173.9, 60.1 172.9\n",
       "Q 61.8 171.9, 64.1 171.9\n",
       "Q 66.9 171.9, 68.5 173.5\n",
       "Q 70.0 175.0, 70.0 177.7\n",
       "Q 70.0 180.5, 68.0 183.1\n",
       "Q 66.0 185.7, 61.7 188.7\n",
       "L 70.4 188.7\n",
       "L 70.4 190.8\n",
       "L 57.8 190.8\n",
       "L 57.8 189.1\n",
       "Q 61.3 186.6, 63.3 184.7\n",
       "Q 65.4 182.9, 66.4 181.2\n",
       "Q 67.4 179.6, 67.4 177.9\n",
       "Q 67.4 176.1, 66.5 175.1\n",
       "Q 65.6 174.1, 64.1 174.1\n",
       "Q 62.5 174.1, 61.5 174.7\n",
       "Q 60.5 175.3, 59.8 176.6\n",
       "L 57.8 175.7\n",
       "' fill='#0000FF'/>\n",
       "<path class='atom-2' d='M 78.5 148.4\n",
       "L 87.8 163.4\n",
       "Q 88.7 164.8, 90.2 167.5\n",
       "Q 91.7 170.2, 91.8 170.4\n",
       "L 91.8 148.4\n",
       "L 95.5 148.4\n",
       "L 95.5 176.7\n",
       "L 91.6 176.7\n",
       "L 81.7 160.3\n",
       "Q 80.5 158.4, 79.3 156.2\n",
       "Q 78.1 154.0, 77.7 153.3\n",
       "L 77.7 176.7\n",
       "L 74.0 176.7\n",
       "L 74.0 148.4\n",
       "L 78.5 148.4\n",
       "' fill='#0000FF'/>\n",
       "</svg>\n"
      ],
      "text/plain": [
       "<rdkit.Chem.rdchem.Mol at 0x12aafa8f0>"
      ]
     },
     "execution_count": 8,
     "metadata": {},
     "output_type": "execute_result"
    }
   ],
   "source": [
    "# Visualizing a molecule\n",
    "molecule = Chem.MolFromSmiles(\"CCN\")  # Ethylamine\n",
    "molecule"
   ]
  },
  {
   "cell_type": "markdown",
   "metadata": {},
   "source": [
    "### 2.2 Creating 3D Molecules"
   ]
  },
  {
   "cell_type": "code",
   "execution_count": 6,
   "metadata": {},
   "outputs": [
    {
     "data": {
      "text/plain": [
       "0"
      ]
     },
     "execution_count": 6,
     "metadata": {},
     "output_type": "execute_result"
    }
   ],
   "source": [
    "# Generate 3D coordinates for a molecule\n",
    "mol = Chem.MolFromSmiles('CCO')\n",
    "mol_3d = Chem.AddHs(mol)  # Add hydrogen atoms\n",
    "AllChem.EmbedMolecule(mol_3d)  # Generate 3D coordinates\n",
    "AllChem.MMFFOptimizeMolecule(mol_3d)  # Energy minimization"
   ]
  },
  {
   "cell_type": "markdown",
   "metadata": {},
   "source": [
    "## 3. Molecule Properties"
   ]
  },
  {
   "cell_type": "code",
   "execution_count": 9,
   "metadata": {},
   "outputs": [
    {
     "name": "stdout",
     "output_type": "stream",
     "text": [
      "Molecular Weight: 46.04\n",
      "Atom Count: 3\n",
      "Bond Count: 2\n",
      "Formal Charge: 0\n"
     ]
    }
   ],
   "source": [
    "# Basic molecule properties\n",
    "mol = Chem.MolFromSmiles('CCO')\n",
    "\n",
    "# Molecular weight\n",
    "mol_weight = Descriptors.ExactMolWt(mol)\n",
    "\n",
    "# Atom count\n",
    "atom_count = mol.GetNumAtoms()\n",
    "\n",
    "# Bond count\n",
    "bond_count = mol.GetNumBonds()\n",
    "\n",
    "# Formal charge\n",
    "formal_charge = Chem.GetFormalCharge(mol)\n",
    "\n",
    "print(f\"Molecular Weight: {mol_weight:.2f}\")\n",
    "print(f\"Atom Count: {atom_count}\")\n",
    "print(f\"Bond Count: {bond_count}\")\n",
    "print(f\"Formal Charge: {formal_charge}\")"
   ]
  },
  {
   "cell_type": "markdown",
   "metadata": {},
   "source": [
    "## 4. Molecular Manipulation\n",
    "### 4.1 Adding and Removing Atoms/Hydrogens"
   ]
  },
  {
   "cell_type": "code",
   "execution_count": 10,
   "metadata": {},
   "outputs": [],
   "source": [
    "# Add hydrogens\n",
    "mol_with_h = Chem.AddHs(mol)\n",
    "\n",
    "# Remove hydrogens\n",
    "mol_without_h = Chem.RemoveHs(mol_with_h)"
   ]
  },
  {
   "cell_type": "markdown",
   "metadata": {},
   "source": [
    "### 4.2 Modifying Molecules"
   ]
  },
  {
   "cell_type": "code",
   "execution_count": 11,
   "metadata": {},
   "outputs": [
    {
     "data": {
      "text/plain": [
       "rdkit.Chem.rdmolops.SanitizeFlags.SANITIZE_NONE"
      ]
     },
     "execution_count": 11,
     "metadata": {},
     "output_type": "execute_result"
    }
   ],
   "source": [
    "# Clone a molecule\n",
    "mol_copy = Chem.MolFromSmiles(Chem.MolToSmiles(mol))\n",
    "\n",
    "# Sanitize molecule (correct valence, aromaticity)\n",
    "Chem.SanitizeMol(mol)"
   ]
  },
  {
   "cell_type": "markdown",
   "metadata": {},
   "source": [
    "## 5. Structural Analysis"
   ]
  },
  {
   "cell_type": "code",
   "execution_count": 12,
   "metadata": {},
   "outputs": [
    {
     "name": "stdout",
     "output_type": "stream",
     "text": [
      "Number of Rings: 1\n",
      "Aromatic Atoms: [0, 1, 2, 3, 4, 5]\n"
     ]
    }
   ],
   "source": [
    "# Ring information\n",
    "mol = Chem.MolFromSmiles('c1ccccc1')\n",
    "ring_info = mol.GetRingInfo()\n",
    "\n",
    "# Check if molecule contains rings\n",
    "has_rings = ring_info.NumRings() > 0\n",
    "\n",
    "# Aromatic atom detection\n",
    "aromatic_atoms = [atom.GetIdx() for atom in mol.GetAtoms() if atom.GetIsAromatic()]\n",
    "\n",
    "print(f\"Number of Rings: {ring_info.NumRings()}\")\n",
    "print(f\"Aromatic Atoms: {aromatic_atoms}\")"
   ]
  },
  {
   "cell_type": "markdown",
   "metadata": {},
   "source": [
    "## 6. Molecular Descriptors"
   ]
  },
  {
   "cell_type": "code",
   "execution_count": 13,
   "metadata": {},
   "outputs": [
    {
     "name": "stdout",
     "output_type": "stream",
     "text": [
      "Molecular Weight: 46.041864812\n",
      "LogP: -0.0014000000000000123\n",
      "Num H-Bond Donors: 1\n",
      "Num H-Bond Acceptors: 1\n",
      "Topological Polar Surface Area: 20.23\n"
     ]
    }
   ],
   "source": [
    "mol = Chem.MolFromSmiles('CCO')\n",
    "\n",
    "# Calculate various molecular descriptors\n",
    "descriptors = {\n",
    "    'Molecular Weight': Descriptors.ExactMolWt(mol),\n",
    "    'LogP': Descriptors.MolLogP(mol),\n",
    "    'Num H-Bond Donors': Descriptors.NumHDonors(mol),\n",
    "    'Num H-Bond Acceptors': Descriptors.NumHAcceptors(mol),\n",
    "    'Topological Polar Surface Area': Descriptors.TPSA(mol)\n",
    "}\n",
    "\n",
    "for name, value in descriptors.items():\n",
    "    print(f\"{name}: {value}\")"
   ]
  },
  {
   "cell_type": "markdown",
   "metadata": {},
   "source": [
    "## 7. Chemical Reactions"
   ]
  },
  {
   "cell_type": "code",
   "execution_count": 19,
   "metadata": {},
   "outputs": [
    {
     "name": "stdout",
     "output_type": "stream",
     "text": [
      "Reaction Products: ['CC(=O)Cl']\n"
     ]
    },
    {
     "name": "stderr",
     "output_type": "stream",
     "text": [
      "[20:17:37] mapped atoms in the reactants were not mapped in the products.\n",
      "  unmapped numbers are: 2 \n"
     ]
    },
    {
     "data": {
      "image/png": "[encoded data removed]",
      "image/svg+xml": [
       "<?xml version='1.0' encoding='iso-8859-1'?>\n",
       "<svg version='1.1' baseProfile='full'\n",
       "              xmlns='http://www.w3.org/2000/svg'\n",
       "                      xmlns:rdkit='http://www.rdkit.org/xml'\n",
       "                      xmlns:xlink='http://www.w3.org/1999/xlink'\n",
       "                  xml:space='preserve'\n",
       "width='300px' height='300px' viewBox='0 0 300 300'>\n",
       "<!-- END OF HEADER -->\n",
       "<rect style='opacity:1.0;fill:#FFFFFF;stroke:none' width='300.0' height='300.0' x='0.0' y='0.0'> </rect>\n",
       "<path class='bond-0 atom-0 atom-1' d='M 59.0,157.0 L 69.4,151.0' style='fill:none;fill-rule:evenodd;stroke:#000000;stroke-width:2.0px;stroke-linecap:butt;stroke-linejoin:miter;stroke-opacity:1' />\n",
       "<path class='bond-0 atom-0 atom-1' d='M 69.4,151.0 L 79.8,145.0' style='fill:none;fill-rule:evenodd;stroke:#FF0000;stroke-width:2.0px;stroke-linecap:butt;stroke-linejoin:miter;stroke-opacity:1' />\n",
       "<path class='bond-0 atom-0 atom-1' d='M 56.2,152.0 L 66.6,146.0' style='fill:none;fill-rule:evenodd;stroke:#000000;stroke-width:2.0px;stroke-linecap:butt;stroke-linejoin:miter;stroke-opacity:1' />\n",
       "<path class='bond-0 atom-0 atom-1' d='M 66.6,146.0 L 77.0,140.0' style='fill:none;fill-rule:evenodd;stroke:#FF0000;stroke-width:2.0px;stroke-linecap:butt;stroke-linejoin:miter;stroke-opacity:1' />\n",
       "<path class='bond-1 atom-0 atom-2' d='M 42.3,154.5 L 31.4,148.3' style='fill:none;fill-rule:evenodd;stroke:#7F7F7F;stroke-width:2.0px;stroke-linecap:butt;stroke-linejoin:miter;stroke-opacity:1' />\n",
       "<path class='bond-1 atom-0 atom-2' d='M 32.9,145.8 L 22.0,139.6' style='fill:none;fill-rule:evenodd;stroke:#7F7F7F;stroke-width:2.0px;stroke-linecap:butt;stroke-linejoin:miter;stroke-opacity:1' />\n",
       "<path class='bond-1 atom-0 atom-2' d='M 30.0,150.8 L 19.2,144.5' style='fill:none;fill-rule:evenodd;stroke:#7F7F7F;stroke-width:2.0px;stroke-linecap:butt;stroke-linejoin:miter;stroke-opacity:1;stroke-dasharray:1,1.33333' />\n",
       "<path class='atom-0' d='M 42.4 159.0\n",
       "Q 42.4 156.9, 43.4 155.8\n",
       "Q 44.4 154.7, 46.3 154.7\n",
       "Q 48.0 154.7, 48.9 155.9\n",
       "L 48.1 156.5\n",
       "Q 47.5 155.6, 46.3 155.6\n",
       "Q 45.0 155.6, 44.3 156.5\n",
       "Q 43.6 157.4, 43.6 159.0\n",
       "Q 43.6 160.7, 44.3 161.5\n",
       "Q 45.0 162.4, 46.4 162.4\n",
       "Q 47.3 162.4, 48.4 161.8\n",
       "L 48.7 162.7\n",
       "Q 48.3 163.0, 47.6 163.2\n",
       "Q 47.0 163.4, 46.2 163.4\n",
       "Q 44.4 163.4, 43.4 162.2\n",
       "Q 42.4 161.1, 42.4 159.0\n",
       "' fill='#000000'/>\n",
       "<path class='atom-0' d='M 49.8 161.8\n",
       "L 51.0 161.8\n",
       "L 51.0 163.0\n",
       "L 49.8 163.0\n",
       "L 49.8 161.8\n",
       "M 49.8 157.7\n",
       "L 51.0 157.7\n",
       "L 51.0 158.9\n",
       "L 49.8 158.9\n",
       "L 49.8 157.7\n",
       "' fill='#000000'/>\n",
       "<path class='atom-0' d='M 52.8 162.3\n",
       "L 54.7 162.3\n",
       "L 54.7 155.9\n",
       "L 52.7 156.6\n",
       "L 52.4 155.9\n",
       "L 55.0 154.7\n",
       "L 55.8 154.9\n",
       "L 55.8 162.3\n",
       "L 57.5 162.3\n",
       "L 57.5 163.3\n",
       "L 52.8 163.3\n",
       "L 52.8 162.3\n",
       "' fill='#000000'/>\n",
       "<path class='atom-1' d='M 79.1 139.9\n",
       "Q 79.1 137.8, 80.1 136.7\n",
       "Q 81.1 135.6, 83.0 135.6\n",
       "Q 84.8 135.6, 85.9 136.7\n",
       "Q 86.9 137.8, 86.9 139.9\n",
       "Q 86.9 141.9, 85.8 143.1\n",
       "Q 84.8 144.3, 83.0 144.3\n",
       "Q 81.1 144.3, 80.1 143.1\n",
       "Q 79.1 142.0, 79.1 139.9\n",
       "M 83.0 143.3\n",
       "Q 84.3 143.3, 85.0 142.5\n",
       "Q 85.7 141.6, 85.7 139.9\n",
       "Q 85.7 138.2, 85.0 137.4\n",
       "Q 84.3 136.5, 83.0 136.5\n",
       "Q 81.7 136.5, 81.0 137.4\n",
       "Q 80.3 138.2, 80.3 139.9\n",
       "Q 80.3 141.6, 81.0 142.5\n",
       "Q 81.7 143.3, 83.0 143.3\n",
       "' fill='#FF0000'/>\n",
       "<path class='atom-2' d='M 2.6 139.9\n",
       "Q 2.6 137.9, 3.6 136.8\n",
       "Q 4.6 135.6, 6.5 135.6\n",
       "Q 8.3 135.6, 9.3 136.8\n",
       "Q 10.4 137.9, 10.4 139.9\n",
       "Q 10.4 142.0, 9.3 143.2\n",
       "Q 8.3 144.3, 6.5 144.3\n",
       "Q 4.6 144.3, 3.6 143.2\n",
       "Q 2.6 142.0, 2.6 139.9\n",
       "M 6.5 143.4\n",
       "Q 7.7 143.4, 8.4 142.5\n",
       "Q 9.2 141.6, 9.2 139.9\n",
       "Q 9.2 138.3, 8.4 137.4\n",
       "Q 7.7 136.6, 6.5 136.6\n",
       "Q 5.2 136.6, 4.4 137.4\n",
       "Q 3.8 138.3, 3.8 139.9\n",
       "Q 3.8 141.6, 4.4 142.5\n",
       "Q 5.2 143.4, 6.5 143.4\n",
       "' fill='#FF0000'/>\n",
       "<path class='atom-2' d='M 11.4 142.8\n",
       "L 12.6 142.8\n",
       "L 12.6 144.0\n",
       "L 11.4 144.0\n",
       "L 11.4 142.8\n",
       "M 11.4 138.7\n",
       "L 12.6 138.7\n",
       "L 12.6 139.9\n",
       "L 11.4 139.9\n",
       "L 11.4 138.7\n",
       "' fill='#FF0000'/>\n",
       "<path class='atom-2' d='M 14.1 137.3\n",
       "Q 14.4 136.5, 15.1 136.1\n",
       "Q 15.9 135.6, 16.9 135.6\n",
       "Q 18.2 135.6, 18.9 136.3\n",
       "Q 19.6 137.0, 19.6 138.2\n",
       "Q 19.6 139.5, 18.7 140.7\n",
       "Q 17.8 141.9, 15.8 143.2\n",
       "L 19.8 143.2\n",
       "L 19.8 144.2\n",
       "L 14.0 144.2\n",
       "L 14.0 143.4\n",
       "Q 15.6 142.3, 16.6 141.4\n",
       "Q 17.5 140.6, 18.0 139.8\n",
       "Q 18.4 139.1, 18.4 138.3\n",
       "Q 18.4 137.5, 18.0 137.0\n",
       "Q 17.6 136.6, 16.9 136.6\n",
       "Q 16.2 136.6, 15.8 136.8\n",
       "Q 15.3 137.1, 15.0 137.7\n",
       "L 14.1 137.3\n",
       "' fill='#FF0000'/>\n",
       "<path class='bond-2 atom-3 atom-4' d='M 253.2,151.7 L 242.8,145.7' style='fill:none;fill-rule:evenodd;stroke:#000000;stroke-width:2.0px;stroke-linecap:butt;stroke-linejoin:miter;stroke-opacity:1' />\n",
       "<path class='bond-2 atom-3 atom-4' d='M 242.8,145.7 L 232.4,139.7' style='fill:none;fill-rule:evenodd;stroke:#FF0000;stroke-width:2.0px;stroke-linecap:butt;stroke-linejoin:miter;stroke-opacity:1' />\n",
       "<path class='bond-2 atom-3 atom-4' d='M 250.3,156.6 L 239.9,150.6' style='fill:none;fill-rule:evenodd;stroke:#000000;stroke-width:2.0px;stroke-linecap:butt;stroke-linejoin:miter;stroke-opacity:1' />\n",
       "<path class='bond-2 atom-3 atom-4' d='M 239.9,150.6 L 229.5,144.6' style='fill:none;fill-rule:evenodd;stroke:#FF0000;stroke-width:2.0px;stroke-linecap:butt;stroke-linejoin:miter;stroke-opacity:1' />\n",
       "<path class='bond-3 atom-3 atom-5' d='M 267.1,154.1 L 277.8,148.0' style='fill:none;fill-rule:evenodd;stroke:#7F7F7F;stroke-width:2.0px;stroke-linecap:butt;stroke-linejoin:miter;stroke-opacity:1' />\n",
       "<path class='bond-3 atom-3 atom-5' d='M 279.2,150.4 L 289.9,144.3' style='fill:none;fill-rule:evenodd;stroke:#7F7F7F;stroke-width:2.0px;stroke-linecap:butt;stroke-linejoin:miter;stroke-opacity:1' />\n",
       "<path class='bond-3 atom-3 atom-5' d='M 276.3,145.5 L 287.0,139.3' style='fill:none;fill-rule:evenodd;stroke:#7F7F7F;stroke-width:2.0px;stroke-linecap:butt;stroke-linejoin:miter;stroke-opacity:1;stroke-dasharray:1,1.33333' />\n",
       "<path class='atom-0' d='M 251.9 158.6\n",
       "Q 251.9 156.5, 252.9 155.4\n",
       "Q 253.9 154.3, 255.8 154.3\n",
       "Q 257.5 154.3, 258.4 155.5\n",
       "L 257.6 156.2\n",
       "Q 257.0 155.3, 255.8 155.3\n",
       "Q 254.5 155.3, 253.8 156.1\n",
       "Q 253.1 157.0, 253.1 158.6\n",
       "Q 253.1 160.3, 253.8 161.1\n",
       "Q 254.5 162.0, 255.9 162.0\n",
       "Q 256.8 162.0, 257.9 161.4\n",
       "L 258.2 162.3\n",
       "Q 257.8 162.6, 257.1 162.8\n",
       "Q 256.5 163.0, 255.7 163.0\n",
       "Q 253.9 163.0, 252.9 161.8\n",
       "Q 251.9 160.7, 251.9 158.6\n",
       "' fill='#000000'/>\n",
       "<path class='atom-0' d='M 259.3 161.5\n",
       "L 260.5 161.5\n",
       "L 260.5 162.7\n",
       "L 259.3 162.7\n",
       "L 259.3 161.5\n",
       "M 259.3 157.3\n",
       "L 260.5 157.3\n",
       "L 260.5 158.5\n",
       "L 259.3 158.5\n",
       "L 259.3 157.3\n",
       "' fill='#000000'/>\n",
       "<path class='atom-0' d='M 262.3 161.9\n",
       "L 264.2 161.9\n",
       "L 264.2 155.6\n",
       "L 262.2 156.2\n",
       "L 261.9 155.5\n",
       "L 264.5 154.3\n",
       "L 265.3 154.5\n",
       "L 265.3 161.9\n",
       "L 267.0 161.9\n",
       "L 267.0 162.9\n",
       "L 262.3 162.9\n",
       "L 262.3 161.9\n",
       "' fill='#000000'/>\n",
       "<path class='atom-1' d='M 222.5 139.5\n",
       "Q 222.5 137.5, 223.5 136.4\n",
       "Q 224.5 135.2, 226.4 135.2\n",
       "Q 228.3 135.2, 229.3 136.4\n",
       "Q 230.3 137.5, 230.3 139.5\n",
       "Q 230.3 141.6, 229.3 142.8\n",
       "Q 228.3 143.9, 226.4 143.9\n",
       "Q 224.5 143.9, 223.5 142.8\n",
       "Q 222.5 141.6, 222.5 139.5\n",
       "M 226.4 143.0\n",
       "Q 227.7 143.0, 228.4 142.1\n",
       "Q 229.1 141.2, 229.1 139.5\n",
       "Q 229.1 137.9, 228.4 137.0\n",
       "Q 227.7 136.2, 226.4 136.2\n",
       "Q 225.1 136.2, 224.4 137.0\n",
       "Q 223.7 137.9, 223.7 139.5\n",
       "Q 223.7 141.3, 224.4 142.1\n",
       "Q 225.1 143.0, 226.4 143.0\n",
       "' fill='#FF0000'/>\n",
       "<path class='atom-2' d='M 289.2 139.8\n",
       "Q 289.2 137.6, 290.2 136.5\n",
       "Q 291.2 135.4, 293.1 135.4\n",
       "Q 294.8 135.4, 295.7 136.7\n",
       "L 294.9 137.3\n",
       "Q 294.3 136.4, 293.1 136.4\n",
       "Q 291.8 136.4, 291.1 137.3\n",
       "Q 290.4 138.1, 290.4 139.8\n",
       "Q 290.4 141.4, 291.1 142.3\n",
       "Q 291.8 143.2, 293.2 143.2\n",
       "Q 294.1 143.2, 295.2 142.6\n",
       "L 295.5 143.5\n",
       "Q 295.1 143.8, 294.4 144.0\n",
       "Q 293.8 144.1, 293.0 144.1\n",
       "Q 291.2 144.1, 290.2 143.0\n",
       "Q 289.2 141.9, 289.2 139.8\n",
       "' fill='#00CC00'/>\n",
       "<path class='atom-2' d='M 296.6 134.9\n",
       "L 297.7 134.9\n",
       "L 297.7 144.0\n",
       "L 296.6 144.0\n",
       "L 296.6 134.9\n",
       "' fill='#00CC00'/>\n",
       "<path d='M 112.0,150.0 L 198.0,150.0' style='fill:none;fill-rule:evenodd;stroke:#000000;stroke-width:2.0px;stroke-linecap:butt;stroke-linejoin:miter;stroke-opacity:1' />\n",
       "<path d='M 198.0,150.0 L 193.0,152.9' style='fill:none;fill-rule:evenodd;stroke:#000000;stroke-width:2.0px;stroke-linecap:butt;stroke-linejoin:miter;stroke-opacity:1' />\n",
       "<path d='M 198.0,150.0 L 193.0,147.1' style='fill:none;fill-rule:evenodd;stroke:#000000;stroke-width:2.0px;stroke-linecap:butt;stroke-linejoin:miter;stroke-opacity:1' />\n",
       "</svg>\n"
      ],
      "text/plain": [
       "<rdkit.Chem.rdChemReactions.ChemicalReaction at 0x12aafba70>"
      ]
     },
     "execution_count": 19,
     "metadata": {},
     "output_type": "execute_result"
    }
   ],
   "source": [
    "# Define a reaction SMARTS\n",
    "reaction_smarts = '[C:1](=O)[OH:2]>>[C:1](=O)Cl'\n",
    "\n",
    "# Create a reaction object\n",
    "rxn = AllChem.ReactionFromSmarts(reaction_smarts)\n",
    "\n",
    "# Apply reaction to a molecule (convert carboxylic acid to acid chloride)\n",
    "reactant = Chem.MolFromSmiles('CC(=O)O')\n",
    "products = rxn.RunReactants((reactant,))\n",
    "\n",
    "# Convert products to SMILES\n",
    "product_smiles = [Chem.MolToSmiles(prod[0]) for prod in products]\n",
    "print(\"Reaction Products:\", product_smiles)\n",
    "\n",
    "rxn"
   ]
  },
  {
   "cell_type": "markdown",
   "metadata": {},
   "source": [
    "## 8. Substructure Searching"
   ]
  },
  {
   "cell_type": "code",
   "execution_count": 20,
   "metadata": {},
   "outputs": [
    {
     "name": "stdout",
     "output_type": "stream",
     "text": [
      "Has Substructure: True\n",
      "Substructure Matches: ((0, 1, 2, 3, 4, 5),)\n"
     ]
    }
   ],
   "source": [
    "# Create a molecule and a substructure\n",
    "mol = Chem.MolFromSmiles('c1ccccc1CO')\n",
    "substructure = Chem.MolFromSmarts('c1ccccc1')\n",
    "\n",
    "# Check for substructure match\n",
    "has_substructure = mol.HasSubstructMatch(substructure)\n",
    "print(\"Has Substructure:\", has_substructure)\n",
    "\n",
    "# Get substructure matches\n",
    "matches = mol.GetSubstructMatches(substructure)\n",
    "print(\"Substructure Matches:\", matches)"
   ]
  },
  {
   "cell_type": "markdown",
   "metadata": {},
   "source": [
    "## 9. Molecular Visualization"
   ]
  },
  {
   "cell_type": "code",
   "execution_count": 22,
   "metadata": {},
   "outputs": [
    {
     "data": {
      "image/svg+xml": [
       "<svg xmlns=\"http://www.w3.org/2000/svg\" xmlns:rdkit=\"http://www.rdkit.org/xml\" xmlns:xlink=\"http://www.w3.org/1999/xlink\" version=\"1.1\" baseProfile=\"full\" xml:space=\"preserve\" width=\"600px\" height=\"200px\" viewBox=\"0 0 600 200\">\n",
       "<!-- END OF HEADER -->\n",
       "<rect style=\"opacity:1.0;fill:#FFFFFF;stroke:none\" width=\"600.0\" height=\"200.0\" x=\"0.0\" y=\"0.0\"> </rect>\n",
       "<path class=\"bond-0 atom-0 atom-1\" d=\"M 187.6,102.1 L 120.5,63.3\" style=\"fill:none;fill-rule:evenodd;stroke:#000000;stroke-width:2.0px;stroke-linecap:butt;stroke-linejoin:miter;stroke-opacity:1\"/>\n",
       "<path class=\"bond-1 atom-1 atom-2\" d=\"M 120.5,63.3 L 94.7,78.1\" style=\"fill:none;fill-rule:evenodd;stroke:#000000;stroke-width:2.0px;stroke-linecap:butt;stroke-linejoin:miter;stroke-opacity:1\"/>\n",
       "<path class=\"bond-1 atom-1 atom-2\" d=\"M 94.7,78.1 L 68.9,93.0\" style=\"fill:none;fill-rule:evenodd;stroke:#FF0000;stroke-width:2.0px;stroke-linecap:butt;stroke-linejoin:miter;stroke-opacity:1\"/>\n",
       "<path d=\"M 123.9,65.2 L 120.5,63.3 L 119.2,64.0\" style=\"fill:none;stroke:#000000;stroke-width:2.0px;stroke-linecap:butt;stroke-linejoin:miter;stroke-opacity:1;\"/>\n",
       "<path class=\"atom-2\" d=\"M 12.4 88.0 L 16.3 88.0 L 16.3 100.0 L 30.7 100.0 L 30.7 88.0 L 34.6 88.0 L 34.6 116.3 L 30.7 116.3 L 30.7 103.2 L 16.3 103.2 L 16.3 116.3 L 12.4 116.3 L 12.4 88.0 \" fill=\"#FF0000\"/>\n",
       "<path class=\"atom-2\" d=\"M 40.4 102.0 Q 40.4 95.2, 43.7 91.4 Q 47.1 87.6, 53.4 87.6 Q 59.7 87.6, 63.0 91.4 Q 66.4 95.2, 66.4 102.0 Q 66.4 108.9, 63.0 112.8 Q 59.6 116.7, 53.4 116.7 Q 47.1 116.7, 43.7 112.8 Q 40.4 109.0, 40.4 102.0 M 53.4 113.5 Q 57.7 113.5, 60.0 110.6 Q 62.4 107.7, 62.4 102.0 Q 62.4 96.5, 60.0 93.7 Q 57.7 90.8, 53.4 90.8 Q 49.1 90.8, 46.7 93.6 Q 44.4 96.4, 44.4 102.0 Q 44.4 107.8, 46.7 110.6 Q 49.1 113.5, 53.4 113.5 \" fill=\"#FF0000\"/>\n",
       "<path class=\"legend\" d=\"M 74.1 183.5 L 80.8 183.5 L 80.8 184.8 L 75.6 184.8 L 75.6 188.2 L 80.3 188.2 L 80.3 189.5 L 75.6 189.5 L 75.6 193.5 L 81.0 193.5 L 81.0 194.8 L 74.1 194.8 L 74.1 183.5 \" fill=\"#000000\"/>\n",
       "<path class=\"legend\" d=\"M 82.4 187.7 L 82.4 186.6 L 84.0 186.6 L 84.2 184.2 L 85.4 184.2 L 85.4 186.6 L 87.9 186.6 L 87.9 187.7 L 85.4 187.7 L 85.4 192.3 Q 85.4 193.7, 86.6 193.7 Q 87.0 193.7, 87.7 193.5 L 88.0 194.5 Q 87.1 194.9, 86.3 194.9 Q 85.2 194.9, 84.5 194.3 Q 83.8 193.6, 83.8 192.4 L 83.8 187.7 L 82.4 187.7 \" fill=\"#000000\"/>\n",
       "<path class=\"legend\" d=\"M 93.3 186.4 Q 94.6 186.4, 95.3 187.2 Q 96.0 187.9, 96.0 189.4 L 96.0 194.8 L 94.5 194.8 L 94.5 189.5 Q 94.5 188.5, 94.1 188.1 Q 93.7 187.6, 92.9 187.6 Q 92.2 187.6, 91.5 188.0 Q 90.9 188.3, 90.5 188.9 L 90.5 194.8 L 89.0 194.8 L 89.0 182.7 L 90.5 182.7 L 90.5 187.6 Q 91.6 186.4, 93.3 186.4 \" fill=\"#000000\"/>\n",
       "<path class=\"legend\" d=\"M 97.8 192.6 Q 97.8 191.3, 98.9 190.6 Q 99.9 189.8, 101.9 189.8 L 103.1 189.8 L 103.1 189.5 Q 103.1 188.5, 102.7 188.1 Q 102.2 187.6, 101.2 187.6 Q 100.6 187.6, 100.1 187.8 Q 99.5 187.9, 98.7 188.2 L 98.3 187.2 Q 99.8 186.4, 101.3 186.4 Q 103.0 186.4, 103.8 187.2 Q 104.6 187.9, 104.6 189.5 L 104.6 194.8 L 103.4 194.8 Q 103.4 194.7, 103.4 194.5 Q 103.3 194.2, 103.2 193.8 Q 102.1 195.0, 100.5 195.0 Q 99.3 195.0, 98.6 194.3 Q 97.8 193.7, 97.8 192.6 M 99.3 192.6 Q 99.3 193.2, 99.7 193.5 Q 100.1 193.8, 100.8 193.8 Q 101.5 193.8, 102.1 193.5 Q 102.7 193.2, 103.1 192.7 L 103.1 191.0 L 102.0 191.0 Q 100.7 191.0, 100.0 191.4 Q 99.3 191.8, 99.3 192.6 \" fill=\"#000000\"/>\n",
       "<path class=\"legend\" d=\"M 110.7 186.4 Q 112.0 186.4, 112.7 187.2 Q 113.4 187.9, 113.4 189.4 L 113.4 194.8 L 111.9 194.8 L 111.9 189.5 Q 111.9 188.5, 111.5 188.1 Q 111.2 187.6, 110.3 187.6 Q 109.6 187.6, 109.0 188.0 Q 108.3 188.3, 107.9 188.9 L 107.9 194.8 L 106.4 194.8 L 106.4 186.6 L 107.7 186.6 L 107.8 187.7 Q 109.0 186.4, 110.7 186.4 \" fill=\"#000000\"/>\n",
       "<path class=\"legend\" d=\"M 115.3 190.7 Q 115.3 188.7, 116.3 187.6 Q 117.3 186.4, 119.2 186.4 Q 121.0 186.4, 122.1 187.6 Q 123.1 188.7, 123.1 190.7 Q 123.1 192.7, 122.1 193.8 Q 121.0 194.9, 119.2 194.9 Q 117.3 194.9, 116.3 193.8 Q 115.3 192.7, 115.3 190.7 M 116.8 190.7 Q 116.8 192.2, 117.4 193.0 Q 118.0 193.8, 119.2 193.8 Q 120.3 193.8, 120.9 193.0 Q 121.5 192.2, 121.5 190.7 Q 121.5 189.2, 120.9 188.4 Q 120.3 187.6, 119.2 187.6 Q 118.0 187.6, 117.4 188.4 Q 116.8 189.2, 116.8 190.7 \" fill=\"#000000\"/>\n",
       "<path class=\"legend\" d=\"M 124.4 182.7 L 125.9 182.7 L 125.9 194.8 L 124.4 194.8 L 124.4 182.7 \" fill=\"#000000\"/>\n",
       "<path class=\"bond-0 atom-0 atom-1\" d=\"M 232.9,128.7 L 232.9,51.2\" style=\"fill:none;fill-rule:evenodd;stroke:#000000;stroke-width:2.0px;stroke-linecap:butt;stroke-linejoin:miter;stroke-opacity:1\"/>\n",
       "<path class=\"bond-0 atom-0 atom-1\" d=\"M 244.5,122.0 L 244.5,57.9\" style=\"fill:none;fill-rule:evenodd;stroke:#000000;stroke-width:2.0px;stroke-linecap:butt;stroke-linejoin:miter;stroke-opacity:1\"/>\n",
       "<path class=\"bond-1 atom-1 atom-2\" d=\"M 232.9,51.2 L 300.1,12.5\" style=\"fill:none;fill-rule:evenodd;stroke:#000000;stroke-width:2.0px;stroke-linecap:butt;stroke-linejoin:miter;stroke-opacity:1\"/>\n",
       "<path class=\"bond-2 atom-2 atom-3\" d=\"M 300.1,12.5 L 367.1,51.3\" style=\"fill:none;fill-rule:evenodd;stroke:#000000;stroke-width:2.0px;stroke-linecap:butt;stroke-linejoin:miter;stroke-opacity:1\"/>\n",
       "<path class=\"bond-2 atom-2 atom-3\" d=\"M 300.1,25.9 L 355.5,58.0\" style=\"fill:none;fill-rule:evenodd;stroke:#000000;stroke-width:2.0px;stroke-linecap:butt;stroke-linejoin:miter;stroke-opacity:1\"/>\n",
       "<path class=\"bond-3 atom-3 atom-4\" d=\"M 367.1,51.3 L 367.1,128.8\" style=\"fill:none;fill-rule:evenodd;stroke:#000000;stroke-width:2.0px;stroke-linecap:butt;stroke-linejoin:miter;stroke-opacity:1\"/>\n",
       "<path class=\"bond-4 atom-4 atom-5\" d=\"M 367.1,128.8 L 299.9,167.5\" style=\"fill:none;fill-rule:evenodd;stroke:#000000;stroke-width:2.0px;stroke-linecap:butt;stroke-linejoin:miter;stroke-opacity:1\"/>\n",
       "<path class=\"bond-4 atom-4 atom-5\" d=\"M 355.5,122.1 L 299.9,154.1\" style=\"fill:none;fill-rule:evenodd;stroke:#000000;stroke-width:2.0px;stroke-linecap:butt;stroke-linejoin:miter;stroke-opacity:1\"/>\n",
       "<path class=\"bond-5 atom-5 atom-0\" d=\"M 299.9,167.5 L 232.9,128.7\" style=\"fill:none;fill-rule:evenodd;stroke:#000000;stroke-width:2.0px;stroke-linecap:butt;stroke-linejoin:miter;stroke-opacity:1\"/>\n",
       "<path d=\"M 232.9,124.8 L 232.9,128.7 L 236.2,130.6\" style=\"fill:none;stroke:#000000;stroke-width:2.0px;stroke-linecap:butt;stroke-linejoin:miter;stroke-opacity:1;\"/>\n",
       "<path d=\"M 232.9,55.1 L 232.9,51.2 L 236.3,49.3\" style=\"fill:none;stroke:#000000;stroke-width:2.0px;stroke-linecap:butt;stroke-linejoin:miter;stroke-opacity:1;\"/>\n",
       "<path d=\"M 296.7,14.5 L 300.1,12.5 L 303.4,14.5\" style=\"fill:none;stroke:#000000;stroke-width:2.0px;stroke-linecap:butt;stroke-linejoin:miter;stroke-opacity:1;\"/>\n",
       "<path d=\"M 363.8,49.4 L 367.1,51.3 L 367.1,55.2\" style=\"fill:none;stroke:#000000;stroke-width:2.0px;stroke-linecap:butt;stroke-linejoin:miter;stroke-opacity:1;\"/>\n",
       "<path d=\"M 367.1,124.9 L 367.1,128.8 L 363.7,130.7\" style=\"fill:none;stroke:#000000;stroke-width:2.0px;stroke-linecap:butt;stroke-linejoin:miter;stroke-opacity:1;\"/>\n",
       "<path d=\"M 303.3,165.5 L 299.9,167.5 L 296.6,165.5\" style=\"fill:none;stroke:#000000;stroke-width:2.0px;stroke-linecap:butt;stroke-linejoin:miter;stroke-opacity:1;\"/>\n",
       "<path class=\"legend\" d=\"M 276.0 188.9 Q 277.0 189.2, 277.6 189.9 Q 278.2 190.6, 278.2 191.5 Q 278.2 193.1, 277.1 194.0 Q 276.2 194.9, 274.3 194.9 L 270.5 194.9 L 270.5 183.5 L 273.8 183.5 Q 275.7 183.5, 276.7 184.3 Q 277.7 185.1, 277.7 186.6 Q 277.7 188.3, 276.0 188.9 M 272.0 184.8 L 272.0 188.4 L 273.8 188.4 Q 274.9 188.4, 275.5 187.9 Q 276.1 187.5, 276.1 186.6 Q 276.1 184.8, 273.8 184.8 L 272.0 184.8 M 274.3 193.6 Q 275.4 193.6, 276.0 193.1 Q 276.6 192.5, 276.6 191.5 Q 276.6 190.6, 275.9 190.1 Q 275.3 189.7, 274.0 189.7 L 272.0 189.7 L 272.0 193.6 L 274.3 193.6 \" fill=\"#000000\"/>\n",
       "<path class=\"legend\" d=\"M 279.6 190.7 Q 279.6 188.7, 280.6 187.6 Q 281.6 186.5, 283.5 186.5 Q 285.3 186.5, 286.1 187.6 Q 286.9 188.7, 286.9 190.7 L 286.9 191.0 L 281.1 191.0 Q 281.2 192.3, 281.8 193.1 Q 282.4 193.8, 283.6 193.8 Q 284.2 193.8, 284.8 193.7 Q 285.4 193.5, 286.1 193.2 L 286.6 194.2 Q 285.7 194.6, 285.0 194.8 Q 284.3 195.0, 283.5 195.0 Q 281.6 195.0, 280.6 193.9 Q 279.6 192.8, 279.6 190.7 M 283.5 187.7 Q 282.5 187.7, 281.9 188.2 Q 281.4 188.8, 281.2 189.8 L 285.3 189.8 Q 285.2 188.7, 284.7 188.2 Q 284.3 187.7, 283.5 187.7 \" fill=\"#000000\"/>\n",
       "<path class=\"legend\" d=\"M 292.5 186.5 Q 293.8 186.5, 294.5 187.3 Q 295.2 188.0, 295.2 189.4 L 295.2 194.9 L 293.7 194.9 L 293.7 189.5 Q 293.7 188.6, 293.3 188.1 Q 292.9 187.7, 292.1 187.7 Q 291.4 187.7, 290.7 188.0 Q 290.1 188.4, 289.7 189.0 L 289.7 194.9 L 288.2 194.9 L 288.2 186.6 L 289.4 186.6 L 289.6 187.8 Q 290.7 186.5, 292.5 186.5 \" fill=\"#000000\"/>\n",
       "<path class=\"legend\" d=\"M 298.9 193.7 L 303.5 193.7 L 303.5 194.9 L 297.1 194.9 L 297.1 193.9 L 301.5 187.8 L 297.4 187.8 L 297.4 186.6 L 303.3 186.6 L 303.3 187.6 L 298.9 193.7 \" fill=\"#000000\"/>\n",
       "<path class=\"legend\" d=\"M 304.7 190.7 Q 304.7 188.7, 305.7 187.6 Q 306.7 186.5, 308.6 186.5 Q 310.4 186.5, 311.2 187.6 Q 312.0 188.7, 312.0 190.7 L 312.0 191.0 L 306.3 191.0 Q 306.3 192.3, 306.9 193.1 Q 307.5 193.8, 308.7 193.8 Q 309.4 193.8, 309.9 193.7 Q 310.5 193.5, 311.3 193.2 L 311.7 194.2 Q 310.9 194.6, 310.1 194.8 Q 309.4 195.0, 308.6 195.0 Q 306.8 195.0, 305.8 193.9 Q 304.7 192.8, 304.7 190.7 M 308.6 187.7 Q 307.6 187.7, 307.1 188.2 Q 306.5 188.8, 306.3 189.8 L 310.4 189.8 Q 310.3 188.7, 309.9 188.2 Q 309.4 187.7, 308.6 187.7 \" fill=\"#000000\"/>\n",
       "<path class=\"legend\" d=\"M 317.6 186.5 Q 318.9 186.5, 319.6 187.3 Q 320.3 188.0, 320.3 189.4 L 320.3 194.9 L 318.8 194.9 L 318.8 189.5 Q 318.8 188.6, 318.4 188.1 Q 318.1 187.7, 317.2 187.7 Q 316.5 187.7, 315.9 188.0 Q 315.2 188.4, 314.8 189.0 L 314.8 194.9 L 313.3 194.9 L 313.3 186.6 L 314.6 186.6 L 314.7 187.8 Q 315.8 186.5, 317.6 186.5 \" fill=\"#000000\"/>\n",
       "<path class=\"legend\" d=\"M 322.3 190.7 Q 322.3 188.7, 323.3 187.6 Q 324.3 186.5, 326.1 186.5 Q 327.9 186.5, 328.7 187.6 Q 329.5 188.7, 329.5 190.7 L 329.5 191.0 L 323.8 191.0 Q 323.8 192.3, 324.5 193.1 Q 325.1 193.8, 326.2 193.8 Q 326.9 193.8, 327.5 193.7 Q 328.1 193.5, 328.8 193.2 L 329.2 194.2 Q 328.4 194.6, 327.7 194.8 Q 326.9 195.0, 326.2 195.0 Q 324.3 195.0, 323.3 193.9 Q 322.3 192.8, 322.3 190.7 M 326.1 187.7 Q 325.2 187.7, 324.6 188.2 Q 324.0 188.8, 323.9 189.8 L 328.0 189.8 Q 327.8 188.7, 327.4 188.2 Q 327.0 187.7, 326.1 187.7 \" fill=\"#000000\"/>\n",
       "<path class=\"bond-0 atom-0 atom-1\" d=\"M 413.1,147.5 L 480.4,109.0\" style=\"fill:none;fill-rule:evenodd;stroke:#000000;stroke-width:2.0px;stroke-linecap:butt;stroke-linejoin:miter;stroke-opacity:1\"/>\n",
       "<path class=\"bond-1 atom-1 atom-2\" d=\"M 486.2,112.4 L 486.3,80.6\" style=\"fill:none;fill-rule:evenodd;stroke:#000000;stroke-width:2.0px;stroke-linecap:butt;stroke-linejoin:miter;stroke-opacity:1\"/>\n",
       "<path class=\"bond-1 atom-1 atom-2\" d=\"M 486.3,80.6 L 486.4,48.9\" style=\"fill:none;fill-rule:evenodd;stroke:#FF0000;stroke-width:2.0px;stroke-linecap:butt;stroke-linejoin:miter;stroke-opacity:1\"/>\n",
       "<path class=\"bond-1 atom-1 atom-2\" d=\"M 474.5,112.4 L 474.6,80.6\" style=\"fill:none;fill-rule:evenodd;stroke:#000000;stroke-width:2.0px;stroke-linecap:butt;stroke-linejoin:miter;stroke-opacity:1\"/>\n",
       "<path class=\"bond-1 atom-1 atom-2\" d=\"M 474.6,80.6 L 474.8,48.8\" style=\"fill:none;fill-rule:evenodd;stroke:#FF0000;stroke-width:2.0px;stroke-linecap:butt;stroke-linejoin:miter;stroke-opacity:1\"/>\n",
       "<path class=\"bond-2 atom-1 atom-3\" d=\"M 480.4,109.0 L 506.1,124.0\" style=\"fill:none;fill-rule:evenodd;stroke:#000000;stroke-width:2.0px;stroke-linecap:butt;stroke-linejoin:miter;stroke-opacity:1\"/>\n",
       "<path class=\"bond-2 atom-1 atom-3\" d=\"M 506.1,124.0 L 531.8,139.0\" style=\"fill:none;fill-rule:evenodd;stroke:#FF0000;stroke-width:2.0px;stroke-linecap:butt;stroke-linejoin:miter;stroke-opacity:1\"/>\n",
       "<path d=\"M 477.0,111.0 L 480.4,109.0 L 481.6,109.8\" style=\"fill:none;stroke:#000000;stroke-width:2.0px;stroke-linecap:butt;stroke-linejoin:miter;stroke-opacity:1;\"/>\n",
       "<path class=\"atom-2\" d=\"M 467.6 31.6 Q 467.6 24.8, 471.0 21.0 Q 474.4 17.2, 480.6 17.2 Q 486.9 17.2, 490.3 21.0 Q 493.6 24.8, 493.6 31.6 Q 493.6 38.5, 490.2 42.4 Q 486.8 46.3, 480.6 46.3 Q 474.4 46.3, 471.0 42.4 Q 467.6 38.6, 467.6 31.6 M 480.6 43.1 Q 485.0 43.1, 487.3 40.2 Q 489.6 37.3, 489.6 31.6 Q 489.6 26.1, 487.3 23.3 Q 485.0 20.4, 480.6 20.4 Q 476.3 20.4, 474.0 23.2 Q 471.6 26.0, 471.6 31.6 Q 471.6 37.4, 474.0 40.2 Q 476.3 43.1, 480.6 43.1 \" fill=\"#FF0000\"/>\n",
       "<path class=\"atom-3\" d=\"M 534.3 148.1 Q 534.3 141.3, 537.7 137.5 Q 541.0 133.7, 547.3 133.7 Q 553.6 133.7, 557.0 137.5 Q 560.3 141.3, 560.3 148.1 Q 560.3 155.0, 556.9 158.9 Q 553.5 162.8, 547.3 162.8 Q 541.1 162.8, 537.7 158.9 Q 534.3 155.0, 534.3 148.1 M 547.3 159.6 Q 551.6 159.6, 554.0 156.7 Q 556.3 153.8, 556.3 148.1 Q 556.3 142.5, 554.0 139.7 Q 551.6 136.9, 547.3 136.9 Q 543.0 136.9, 540.6 139.7 Q 538.3 142.5, 538.3 148.1 Q 538.3 153.8, 540.6 156.7 Q 543.0 159.6, 547.3 159.6 \" fill=\"#FF0000\"/>\n",
       "<path class=\"atom-3\" d=\"M 564.7 134.0 L 568.6 134.0 L 568.6 146.0 L 583.0 146.0 L 583.0 134.0 L 586.9 134.0 L 586.9 162.3 L 583.0 162.3 L 583.0 149.2 L 568.6 149.2 L 568.6 162.3 L 564.7 162.3 L 564.7 134.0 \" fill=\"#FF0000\"/>\n",
       "<path class=\"legend\" d=\"M 468.5 194.9 L 467.3 191.5 L 462.8 191.5 L 461.7 194.9 L 460.2 194.9 L 464.1 183.5 L 465.9 183.5 L 470.0 194.9 L 468.5 194.9 M 463.3 190.3 L 466.9 190.3 L 465.0 185.1 L 463.3 190.3 \" fill=\"#000000\"/>\n",
       "<path class=\"legend\" d=\"M 470.8 190.7 Q 470.8 188.8, 471.8 187.6 Q 472.7 186.5, 474.7 186.5 Q 476.6 186.5, 477.5 187.9 L 476.5 188.6 Q 476.2 188.2, 475.7 187.9 Q 475.3 187.7, 474.7 187.7 Q 473.6 187.7, 472.9 188.5 Q 472.3 189.2, 472.3 190.7 Q 472.3 192.3, 472.9 193.0 Q 473.6 193.8, 474.8 193.8 Q 475.5 193.8, 475.9 193.7 Q 476.4 193.5, 477.0 193.3 L 477.4 194.3 Q 476.2 195.0, 474.7 195.0 Q 472.7 195.0, 471.8 193.8 Q 470.8 192.7, 470.8 190.7 \" fill=\"#000000\"/>\n",
       "<path class=\"legend\" d=\"M 478.5 190.7 Q 478.5 188.7, 479.5 187.6 Q 480.5 186.5, 482.4 186.5 Q 484.2 186.5, 485.0 187.6 Q 485.8 188.7, 485.8 190.7 L 485.8 191.0 L 480.0 191.0 Q 480.1 192.3, 480.7 193.1 Q 481.3 193.8, 482.5 193.8 Q 483.1 193.8, 483.7 193.7 Q 484.3 193.5, 485.0 193.2 L 485.5 194.2 Q 484.6 194.6, 483.9 194.8 Q 483.2 195.0, 482.4 195.0 Q 480.6 195.0, 479.5 193.9 Q 478.5 192.8, 478.5 190.7 M 482.4 187.7 Q 481.4 187.7, 480.8 188.2 Q 480.3 188.8, 480.1 189.8 L 484.2 189.8 Q 484.1 188.7, 483.6 188.2 Q 483.2 187.7, 482.4 187.7 \" fill=\"#000000\"/>\n",
       "<path class=\"legend\" d=\"M 487.0 187.8 L 487.0 186.6 L 488.5 186.6 L 488.8 184.2 L 489.9 184.2 L 489.9 186.6 L 492.4 186.6 L 492.4 187.8 L 489.9 187.8 L 489.9 192.3 Q 489.9 193.8, 491.1 193.8 Q 491.6 193.8, 492.3 193.5 L 492.6 194.6 Q 491.7 195.0, 490.8 195.0 Q 489.8 195.0, 489.1 194.3 Q 488.4 193.7, 488.4 192.4 L 488.4 187.8 L 487.0 187.8 \" fill=\"#000000\"/>\n",
       "<path class=\"legend\" d=\"M 493.5 183.5 L 495.0 183.5 L 495.0 184.9 L 493.5 184.9 L 493.5 183.5 M 493.5 186.6 L 495.0 186.6 L 495.0 194.9 L 493.5 194.9 L 493.5 186.6 \" fill=\"#000000\"/>\n",
       "<path class=\"legend\" d=\"M 496.9 190.7 Q 496.9 188.8, 497.9 187.6 Q 498.9 186.5, 500.9 186.5 Q 502.8 186.5, 503.7 187.9 L 502.7 188.6 Q 502.3 188.2, 501.9 187.9 Q 501.5 187.7, 500.9 187.7 Q 499.7 187.7, 499.1 188.5 Q 498.5 189.2, 498.5 190.7 Q 498.5 192.3, 499.1 193.0 Q 499.8 193.8, 501.0 193.8 Q 501.7 193.8, 502.1 193.7 Q 502.6 193.5, 503.2 193.3 L 503.6 194.3 Q 502.4 195.0, 500.9 195.0 Q 498.9 195.0, 497.9 193.8 Q 496.9 192.7, 496.9 190.7 \" fill=\"#000000\"/>\n",
       "<path class=\"legend\" d=\"\" fill=\"#000000\"/>\n",
       "<path class=\"legend\" d=\"M 519.0 194.9 L 517.8 191.5 L 513.3 191.5 L 512.1 194.9 L 510.6 194.9 L 514.5 183.5 L 516.4 183.5 L 520.4 194.9 L 519.0 194.9 M 513.7 190.3 L 517.3 190.3 L 515.5 185.1 L 513.7 190.3 \" fill=\"#000000\"/>\n",
       "<path class=\"legend\" d=\"M 521.2 190.7 Q 521.2 188.8, 522.2 187.6 Q 523.2 186.5, 525.1 186.5 Q 527.0 186.5, 528.0 187.9 L 527.0 188.6 Q 526.6 188.2, 526.2 187.9 Q 525.7 187.7, 525.1 187.7 Q 524.0 187.7, 523.4 188.5 Q 522.7 189.2, 522.7 190.7 Q 522.7 192.3, 523.4 193.0 Q 524.0 193.8, 525.2 193.8 Q 525.9 193.8, 526.4 193.7 Q 526.8 193.5, 527.4 193.3 L 527.8 194.3 Q 526.6 195.0, 525.1 195.0 Q 523.2 195.0, 522.2 193.8 Q 521.2 192.7, 521.2 190.7 \" fill=\"#000000\"/>\n",
       "<path class=\"legend\" d=\"M 529.0 183.5 L 530.4 183.5 L 530.4 184.9 L 529.0 184.9 L 529.0 183.5 M 529.0 186.6 L 530.4 186.6 L 530.4 194.9 L 529.0 194.9 L 529.0 186.6 \" fill=\"#000000\"/>\n",
       "<path class=\"legend\" d=\"M 539.8 182.7 L 539.8 194.9 L 538.6 194.9 L 538.4 193.8 Q 537.5 195.0, 536.0 195.0 Q 534.3 195.0, 533.3 193.9 Q 532.4 192.9, 532.4 190.9 Q 532.4 188.8, 533.5 187.7 Q 534.6 186.5, 536.6 186.5 Q 537.4 186.5, 538.3 186.7 L 538.3 182.7 L 539.8 182.7 M 536.1 193.8 Q 536.9 193.8, 537.5 193.4 Q 538.1 192.9, 538.3 192.1 L 538.3 187.9 Q 537.5 187.7, 536.6 187.7 Q 535.4 187.7, 534.6 188.5 Q 533.9 189.4, 533.9 190.9 Q 533.9 192.3, 534.5 193.1 Q 535.0 193.8, 536.1 193.8 \" fill=\"#000000\"/>\n",
       "</svg>"
      ],
      "text/plain": [
       "<IPython.core.display.SVG object>"
      ]
     },
     "execution_count": 22,
     "metadata": {},
     "output_type": "execute_result"
    }
   ],
   "source": [
    "# Generate 2D depiction of molecules\n",
    "molecules = [\n",
    "    Chem.MolFromSmiles('CCO'),\n",
    "    Chem.MolFromSmiles('c1ccccc1'),\n",
    "    Chem.MolFromSmiles('CC(=O)O')\n",
    "]\n",
    "\n",
    "# Create a grid image of molecules\n",
    "img = Draw.MolsToGridImage(molecules, molsPerRow=3, legends=['Ethanol', 'Benzene', 'Acetic Acid'])\n",
    "img"
   ]
  },
  {
   "cell_type": "code",
   "execution_count": 25,
   "metadata": {},
   "outputs": [
    {
     "data": {
      "image/svg+xml": [
       "<svg xmlns=\"http://www.w3.org/2000/svg\" xmlns:rdkit=\"http://www.rdkit.org/xml\" xmlns:xlink=\"http://www.w3.org/1999/xlink\" version=\"1.1\" baseProfile=\"full\" xml:space=\"preserve\" width=\"400px\" height=\"400px\" viewBox=\"0 0 400 400\">\n",
       "<!-- END OF HEADER -->\n",
       "<rect style=\"opacity:1.0;fill:#FFFFFF;stroke:none\" width=\"400.0\" height=\"400.0\" x=\"0.0\" y=\"0.0\"> </rect>\n",
       "<path class=\"bond-0 atom-0 atom-1\" d=\"M 44.2,105.1 L 84.9,34.2\" style=\"fill:none;fill-rule:evenodd;stroke:#000000;stroke-width:2.0px;stroke-linecap:butt;stroke-linejoin:miter;stroke-opacity:1\"/>\n",
       "<path class=\"bond-1 atom-1 atom-2\" d=\"M 84.9,34.2 L 155.8,74.9\" style=\"fill:none;fill-rule:evenodd;stroke:#000000;stroke-width:2.0px;stroke-linecap:butt;stroke-linejoin:miter;stroke-opacity:1\"/>\n",
       "<path class=\"bond-2 atom-2 atom-3\" d=\"M 155.8,74.9 L 115.1,145.8\" style=\"fill:none;fill-rule:evenodd;stroke:#000000;stroke-width:2.0px;stroke-linecap:butt;stroke-linejoin:miter;stroke-opacity:1\"/>\n",
       "<path class=\"bond-3 atom-3 atom-0\" d=\"M 115.1,145.8 L 44.2,105.1\" style=\"fill:none;fill-rule:evenodd;stroke:#000000;stroke-width:2.0px;stroke-linecap:butt;stroke-linejoin:miter;stroke-opacity:1\"/>\n",
       "<path d=\"M 46.2,101.6 L 44.2,105.1 L 47.7,107.2\" style=\"fill:none;stroke:#000000;stroke-width:2.0px;stroke-linecap:butt;stroke-linejoin:miter;stroke-opacity:1;\"/>\n",
       "<path d=\"M 82.8,37.7 L 84.9,34.2 L 88.4,36.2\" style=\"fill:none;stroke:#000000;stroke-width:2.0px;stroke-linecap:butt;stroke-linejoin:miter;stroke-opacity:1;\"/>\n",
       "<path d=\"M 152.3,72.8 L 155.8,74.9 L 153.8,78.4\" style=\"fill:none;stroke:#000000;stroke-width:2.0px;stroke-linecap:butt;stroke-linejoin:miter;stroke-opacity:1;\"/>\n",
       "<path d=\"M 117.2,142.3 L 115.1,145.8 L 111.6,143.8\" style=\"fill:none;stroke:#000000;stroke-width:2.0px;stroke-linecap:butt;stroke-linejoin:miter;stroke-opacity:1;\"/>\n",
       "<path class=\"legend\" d=\"M 58.7 186.0 Q 58.7 183.4, 59.9 182.0 Q 61.2 180.6, 63.5 180.6 Q 65.7 180.6, 66.8 182.2 L 65.9 183.0 Q 65.0 181.9, 63.5 181.9 Q 61.9 181.9, 61.0 182.9 Q 60.2 184.0, 60.2 186.0 Q 60.2 188.1, 61.1 189.2 Q 62.0 190.3, 63.7 190.3 Q 64.8 190.3, 66.2 189.6 L 66.6 190.7 Q 66.0 191.0, 65.2 191.3 Q 64.4 191.5, 63.5 191.5 Q 61.2 191.5, 59.9 190.1 Q 58.7 188.7, 58.7 186.0 \" fill=\"#000000\"/>\n",
       "<path class=\"legend\" d=\"M 74.0 183.7 L 75.3 183.7 L 71.4 195.0 L 70.1 195.0 L 71.4 191.3 L 70.8 191.3 L 68.1 183.7 L 69.5 183.7 L 71.8 190.1 L 74.0 183.7 \" fill=\"#000000\"/>\n",
       "<path class=\"legend\" d=\"M 76.1 187.5 Q 76.1 185.6, 77.0 184.6 Q 78.0 183.5, 79.8 183.5 Q 81.5 183.5, 82.4 184.8 L 81.5 185.5 Q 81.1 185.1, 80.7 184.9 Q 80.3 184.6, 79.8 184.6 Q 78.7 184.6, 78.1 185.4 Q 77.5 186.1, 77.5 187.5 Q 77.5 188.9, 78.1 189.6 Q 78.7 190.3, 79.9 190.3 Q 80.5 190.3, 80.9 190.2 Q 81.4 190.1, 81.9 189.8 L 82.3 190.8 Q 81.2 191.4, 79.8 191.4 Q 78.0 191.4, 77.0 190.4 Q 76.1 189.3, 76.1 187.5 \" fill=\"#000000\"/>\n",
       "<path class=\"legend\" d=\"M 83.4 180.0 L 84.8 180.0 L 84.8 191.3 L 83.4 191.3 L 83.4 180.0 \" fill=\"#000000\"/>\n",
       "<path class=\"legend\" d=\"M 86.7 187.5 Q 86.7 185.6, 87.6 184.6 Q 88.6 183.5, 90.3 183.5 Q 92.1 183.5, 93.0 184.6 Q 94.0 185.6, 94.0 187.5 Q 94.0 189.3, 93.0 190.4 Q 92.1 191.4, 90.3 191.4 Q 88.6 191.4, 87.6 190.4 Q 86.7 189.3, 86.7 187.5 M 88.1 187.5 Q 88.1 188.9, 88.7 189.6 Q 89.3 190.3, 90.3 190.3 Q 91.4 190.3, 92.0 189.6 Q 92.5 188.9, 92.5 187.5 Q 92.5 186.1, 92.0 185.4 Q 91.4 184.6, 90.3 184.6 Q 89.3 184.6, 88.7 185.4 Q 88.1 186.1, 88.1 187.5 \" fill=\"#000000\"/>\n",
       "<path class=\"legend\" d=\"M 98.9 183.5 Q 100.5 183.5, 101.4 184.5 Q 102.2 185.5, 102.2 187.4 Q 102.2 189.3, 101.2 190.4 Q 100.1 191.4, 98.3 191.4 Q 97.1 191.4, 96.0 191.0 L 95.3 190.8 L 95.3 180.0 L 96.7 180.0 L 96.7 184.5 Q 97.5 183.5, 98.9 183.5 M 98.3 190.3 Q 99.5 190.3, 100.1 189.6 Q 100.8 188.8, 100.8 187.4 Q 100.8 186.0, 100.3 185.3 Q 99.8 184.6, 98.8 184.6 Q 98.0 184.6, 97.5 185.0 Q 96.9 185.5, 96.7 186.2 L 96.7 190.1 Q 97.5 190.3, 98.3 190.3 \" fill=\"#000000\"/>\n",
       "<path class=\"legend\" d=\"M 110.1 183.7 L 110.1 191.3 L 108.9 191.3 L 108.8 190.3 Q 107.8 191.5, 106.2 191.5 Q 104.9 191.5, 104.2 190.8 Q 103.6 190.1, 103.6 188.7 L 103.6 183.7 L 105.0 183.7 L 105.0 188.6 Q 105.0 189.5, 105.3 190.0 Q 105.7 190.4, 106.4 190.4 Q 107.1 190.4, 107.7 190.0 Q 108.3 189.7, 108.7 189.1 L 108.7 183.7 L 110.1 183.7 \" fill=\"#000000\"/>\n",
       "<path class=\"legend\" d=\"M 111.9 184.7 L 111.9 183.7 L 113.4 183.7 L 113.6 181.4 L 114.7 181.4 L 114.7 183.7 L 117.0 183.7 L 117.0 184.7 L 114.7 184.7 L 114.7 189.0 Q 114.7 190.3, 115.8 190.3 Q 116.2 190.3, 116.9 190.1 L 117.1 191.1 Q 116.3 191.4, 115.5 191.4 Q 114.5 191.4, 113.9 190.8 Q 113.3 190.2, 113.3 189.0 L 113.3 184.7 L 111.9 184.7 \" fill=\"#000000\"/>\n",
       "<path class=\"legend\" d=\"M 118.1 189.3 Q 118.1 188.0, 119.1 187.4 Q 120.1 186.7, 121.9 186.7 L 123.0 186.7 L 123.0 186.4 Q 123.0 185.4, 122.6 185.0 Q 122.3 184.6, 121.3 184.6 Q 120.7 184.6, 120.2 184.7 Q 119.7 184.9, 119.0 185.2 L 118.6 184.2 Q 120.0 183.5, 121.3 183.5 Q 123.0 183.5, 123.7 184.2 Q 124.4 184.9, 124.4 186.4 L 124.4 191.3 L 123.4 191.3 Q 123.3 191.3, 123.3 191.0 Q 123.3 190.8, 123.2 190.4 Q 122.1 191.5, 120.7 191.5 Q 119.5 191.5, 118.8 190.9 Q 118.1 190.3, 118.1 189.3 M 119.5 189.2 Q 119.5 189.8, 119.9 190.1 Q 120.3 190.4, 120.9 190.4 Q 121.5 190.4, 122.1 190.1 Q 122.7 189.9, 123.0 189.4 L 123.0 187.7 L 122.0 187.7 Q 120.8 187.7, 120.2 188.1 Q 119.5 188.5, 119.5 189.2 \" fill=\"#000000\"/>\n",
       "<path class=\"legend\" d=\"M 130.2 183.5 Q 131.4 183.5, 132.1 184.2 Q 132.7 184.9, 132.7 186.3 L 132.7 191.3 L 131.3 191.3 L 131.3 186.4 Q 131.3 185.4, 131.0 185.0 Q 130.6 184.6, 129.9 184.6 Q 129.2 184.6, 128.6 185.0 Q 128.0 185.3, 127.6 185.8 L 127.6 191.3 L 126.2 191.3 L 126.2 183.7 L 127.4 183.7 L 127.5 184.7 Q 128.6 183.5, 130.2 183.5 \" fill=\"#000000\"/>\n",
       "<path class=\"legend\" d=\"M 134.5 187.5 Q 134.5 185.6, 135.5 184.6 Q 136.4 183.5, 138.1 183.5 Q 139.8 183.5, 140.5 184.5 Q 141.3 185.5, 141.3 187.4 L 141.3 187.7 L 136.0 187.7 Q 136.0 189.0, 136.6 189.7 Q 137.1 190.3, 138.2 190.3 Q 138.8 190.3, 139.4 190.2 Q 139.9 190.1, 140.6 189.8 L 141.0 190.7 Q 140.3 191.1, 139.6 191.3 Q 138.9 191.4, 138.2 191.4 Q 136.4 191.4, 135.5 190.4 Q 134.5 189.4, 134.5 187.5 M 138.1 184.6 Q 137.2 184.6, 136.7 185.1 Q 136.2 185.6, 136.0 186.6 L 139.8 186.6 Q 139.7 185.6, 139.3 185.1 Q 138.9 184.6, 138.1 184.6 \" fill=\"#000000\"/>\n",
       "<path class=\"bond-0 atom-0 atom-1\" d=\"M 376.3,49.1 L 305.4,8.2\" style=\"fill:none;fill-rule:evenodd;stroke:#000000;stroke-width:2.0px;stroke-linecap:butt;stroke-linejoin:miter;stroke-opacity:1\"/>\n",
       "<path class=\"bond-0 atom-0 atom-1\" d=\"M 364.0,56.2 L 305.4,22.4\" style=\"fill:none;fill-rule:evenodd;stroke:#000000;stroke-width:2.0px;stroke-linecap:butt;stroke-linejoin:miter;stroke-opacity:1\"/>\n",
       "<path class=\"bond-1 atom-1 atom-2\" d=\"M 305.4,8.2 L 234.5,49.0\" style=\"fill:none;fill-rule:evenodd;stroke:#000000;stroke-width:2.0px;stroke-linecap:butt;stroke-linejoin:miter;stroke-opacity:1\"/>\n",
       "<path class=\"bond-2 atom-2 atom-3\" d=\"M 234.5,49.0 L 234.5,81.5\" style=\"fill:none;fill-rule:evenodd;stroke:#000000;stroke-width:2.0px;stroke-linecap:butt;stroke-linejoin:miter;stroke-opacity:1\"/>\n",
       "<path class=\"bond-2 atom-2 atom-3\" d=\"M 234.5,81.5 L 234.5,114.0\" style=\"fill:none;fill-rule:evenodd;stroke:#0000FF;stroke-width:2.0px;stroke-linecap:butt;stroke-linejoin:miter;stroke-opacity:1\"/>\n",
       "<path class=\"bond-2 atom-2 atom-3\" d=\"M 246.8,56.1 L 246.8,85.1\" style=\"fill:none;fill-rule:evenodd;stroke:#000000;stroke-width:2.0px;stroke-linecap:butt;stroke-linejoin:miter;stroke-opacity:1\"/>\n",
       "<path class=\"bond-2 atom-2 atom-3\" d=\"M 246.8,85.1 L 246.8,114.0\" style=\"fill:none;fill-rule:evenodd;stroke:#0000FF;stroke-width:2.0px;stroke-linecap:butt;stroke-linejoin:miter;stroke-opacity:1\"/>\n",
       "<path class=\"bond-3 atom-3 atom-4\" d=\"M 247.9,138.6 L 276.6,155.2\" style=\"fill:none;fill-rule:evenodd;stroke:#0000FF;stroke-width:2.0px;stroke-linecap:butt;stroke-linejoin:miter;stroke-opacity:1\"/>\n",
       "<path class=\"bond-3 atom-3 atom-4\" d=\"M 276.6,155.2 L 305.3,171.8\" style=\"fill:none;fill-rule:evenodd;stroke:#000000;stroke-width:2.0px;stroke-linecap:butt;stroke-linejoin:miter;stroke-opacity:1\"/>\n",
       "<path class=\"bond-4 atom-4 atom-5\" d=\"M 305.3,171.8 L 376.2,131.0\" style=\"fill:none;fill-rule:evenodd;stroke:#000000;stroke-width:2.0px;stroke-linecap:butt;stroke-linejoin:miter;stroke-opacity:1\"/>\n",
       "<path class=\"bond-4 atom-4 atom-5\" d=\"M 305.3,157.6 L 363.9,123.9\" style=\"fill:none;fill-rule:evenodd;stroke:#000000;stroke-width:2.0px;stroke-linecap:butt;stroke-linejoin:miter;stroke-opacity:1\"/>\n",
       "<path class=\"bond-5 atom-5 atom-0\" d=\"M 376.2,131.0 L 376.3,49.1\" style=\"fill:none;fill-rule:evenodd;stroke:#000000;stroke-width:2.0px;stroke-linecap:butt;stroke-linejoin:miter;stroke-opacity:1\"/>\n",
       "<path d=\"M 372.7,47.1 L 376.3,49.1 L 376.3,53.2\" style=\"fill:none;stroke:#000000;stroke-width:2.0px;stroke-linecap:butt;stroke-linejoin:miter;stroke-opacity:1;\"/>\n",
       "<path d=\"M 309.0,10.2 L 305.4,8.2 L 301.9,10.2\" style=\"fill:none;stroke:#000000;stroke-width:2.0px;stroke-linecap:butt;stroke-linejoin:miter;stroke-opacity:1;\"/>\n",
       "<path d=\"M 238.1,47.0 L 234.5,49.0 L 234.5,50.7\" style=\"fill:none;stroke:#000000;stroke-width:2.0px;stroke-linecap:butt;stroke-linejoin:miter;stroke-opacity:1;\"/>\n",
       "<path d=\"M 303.9,171.0 L 305.3,171.8 L 308.8,169.8\" style=\"fill:none;stroke:#000000;stroke-width:2.0px;stroke-linecap:butt;stroke-linejoin:miter;stroke-opacity:1;\"/>\n",
       "<path d=\"M 372.6,133.0 L 376.2,131.0 L 376.2,126.9\" style=\"fill:none;stroke:#000000;stroke-width:2.0px;stroke-linecap:butt;stroke-linejoin:miter;stroke-opacity:1;\"/>\n",
       "<path class=\"atom-3\" d=\"M 228.2 116.7 L 237.5 131.7 Q 238.4 133.2, 239.9 135.9 Q 241.4 138.5, 241.5 138.7 L 241.5 116.7 L 245.2 116.7 L 245.2 145.0 L 241.3 145.0 L 231.4 128.6 Q 230.2 126.7, 229.0 124.5 Q 227.8 122.3, 227.4 121.6 L 227.4 145.0 L 223.7 145.0 L 223.7 116.7 L 228.2 116.7 \" fill=\"#0000FF\"/>\n",
       "<path class=\"legend\" d=\"M 277.6 180.8 Q 279.4 180.8, 280.3 181.6 Q 281.2 182.4, 281.2 183.9 Q 281.2 185.3, 280.3 186.2 Q 279.4 187.0, 277.6 187.0 L 275.9 187.0 L 275.9 191.3 L 274.5 191.3 L 274.5 180.8 L 277.6 180.8 M 277.6 185.8 Q 278.6 185.8, 279.2 185.3 Q 279.7 184.8, 279.7 183.9 Q 279.7 182.9, 279.2 182.4 Q 278.6 182.0, 277.6 182.0 L 275.9 182.0 L 275.9 185.8 L 277.6 185.8 \" fill=\"#000000\"/>\n",
       "<path class=\"legend\" d=\"M 288.3 183.7 L 289.7 183.7 L 285.7 195.0 L 284.5 195.0 L 285.7 191.3 L 285.2 191.3 L 282.4 183.7 L 283.9 183.7 L 286.1 190.1 L 288.3 183.7 \" fill=\"#000000\"/>\n",
       "<path class=\"legend\" d=\"M 291.5 183.7 L 291.7 184.7 Q 292.5 183.5, 293.8 183.5 Q 294.2 183.5, 294.8 183.7 L 294.6 184.9 Q 293.9 184.8, 293.6 184.8 Q 292.9 184.8, 292.5 185.0 Q 292.1 185.3, 291.8 185.9 L 291.8 191.3 L 290.4 191.3 L 290.4 183.7 L 291.5 183.7 \" fill=\"#000000\"/>\n",
       "<path class=\"legend\" d=\"M 295.5 180.8 L 296.9 180.8 L 296.9 182.1 L 295.5 182.1 L 295.5 180.8 M 295.5 183.7 L 296.9 183.7 L 296.9 191.3 L 295.5 191.3 L 295.5 183.7 \" fill=\"#000000\"/>\n",
       "<path class=\"legend\" d=\"M 305.7 180.0 L 305.7 191.3 L 304.5 191.3 L 304.3 190.4 Q 303.5 191.4, 302.1 191.4 Q 300.5 191.4, 299.6 190.5 Q 298.7 189.5, 298.7 187.6 Q 298.7 185.7, 299.7 184.6 Q 300.8 183.5, 302.6 183.5 Q 303.4 183.5, 304.3 183.7 L 304.3 180.0 L 305.7 180.0 M 302.2 190.3 Q 302.9 190.3, 303.5 189.9 Q 304.1 189.5, 304.3 188.7 L 304.3 184.9 Q 303.5 184.6, 302.6 184.6 Q 301.5 184.6, 300.8 185.4 Q 300.1 186.2, 300.1 187.6 Q 300.1 188.9, 300.6 189.6 Q 301.2 190.3, 302.2 190.3 \" fill=\"#000000\"/>\n",
       "<path class=\"legend\" d=\"M 307.4 180.8 L 308.7 180.8 L 308.7 182.1 L 307.4 182.1 L 307.4 180.8 M 307.4 183.7 L 308.7 183.7 L 308.7 191.3 L 307.4 191.3 L 307.4 183.7 \" fill=\"#000000\"/>\n",
       "<path class=\"legend\" d=\"M 314.5 183.5 Q 315.8 183.5, 316.4 184.2 Q 317.1 184.9, 317.1 186.3 L 317.1 191.3 L 315.7 191.3 L 315.7 186.4 Q 315.7 185.4, 315.3 185.0 Q 315.0 184.6, 314.2 184.6 Q 313.5 184.6, 312.9 185.0 Q 312.3 185.3, 312.0 185.8 L 312.0 191.3 L 310.5 191.3 L 310.5 183.7 L 311.7 183.7 L 311.9 184.7 Q 312.9 183.5, 314.5 183.5 \" fill=\"#000000\"/>\n",
       "<path class=\"legend\" d=\"M 318.7 187.5 Q 318.7 185.6, 319.7 184.6 Q 320.6 183.5, 322.3 183.5 Q 324.0 183.5, 324.8 184.5 Q 325.5 185.5, 325.5 187.4 L 325.5 187.7 L 320.2 187.7 Q 320.2 189.0, 320.8 189.7 Q 321.4 190.3, 322.5 190.3 Q 323.1 190.3, 323.6 190.2 Q 324.2 190.1, 324.8 189.8 L 325.2 190.7 Q 324.5 191.1, 323.8 191.3 Q 323.1 191.4, 322.4 191.4 Q 320.6 191.4, 319.7 190.4 Q 318.7 189.4, 318.7 187.5 M 322.3 184.6 Q 321.5 184.6, 320.9 185.1 Q 320.4 185.6, 320.2 186.6 L 324.1 186.6 Q 323.9 185.6, 323.5 185.1 Q 323.1 184.6, 322.3 184.6 \" fill=\"#000000\"/>\n",
       "<path class=\"bond-0 atom-0 atom-1\" d=\"M 29.1,330.9 L 29.2,249.0\" style=\"fill:none;fill-rule:evenodd;stroke:#000000;stroke-width:2.0px;stroke-linecap:butt;stroke-linejoin:miter;stroke-opacity:1\"/>\n",
       "<path class=\"bond-0 atom-0 atom-1\" d=\"M 41.4,323.8 L 41.4,256.1\" style=\"fill:none;fill-rule:evenodd;stroke:#000000;stroke-width:2.0px;stroke-linecap:butt;stroke-linejoin:miter;stroke-opacity:1\"/>\n",
       "<path class=\"bond-1 atom-1 atom-2\" d=\"M 29.2,249.0 L 100.1,208.2\" style=\"fill:none;fill-rule:evenodd;stroke:#000000;stroke-width:2.0px;stroke-linecap:butt;stroke-linejoin:miter;stroke-opacity:1\"/>\n",
       "<path class=\"bond-2 atom-2 atom-3\" d=\"M 100.1,208.2 L 170.9,249.1\" style=\"fill:none;fill-rule:evenodd;stroke:#000000;stroke-width:2.0px;stroke-linecap:butt;stroke-linejoin:miter;stroke-opacity:1\"/>\n",
       "<path class=\"bond-2 atom-2 atom-3\" d=\"M 100.1,222.4 L 158.6,256.2\" style=\"fill:none;fill-rule:evenodd;stroke:#000000;stroke-width:2.0px;stroke-linecap:butt;stroke-linejoin:miter;stroke-opacity:1\"/>\n",
       "<path class=\"bond-3 atom-3 atom-4\" d=\"M 170.9,249.1 L 170.8,331.0\" style=\"fill:none;fill-rule:evenodd;stroke:#000000;stroke-width:2.0px;stroke-linecap:butt;stroke-linejoin:miter;stroke-opacity:1\"/>\n",
       "<path class=\"bond-4 atom-4 atom-5\" d=\"M 170.8,331.0 L 99.9,371.8\" style=\"fill:none;fill-rule:evenodd;stroke:#000000;stroke-width:2.0px;stroke-linecap:butt;stroke-linejoin:miter;stroke-opacity:1\"/>\n",
       "<path class=\"bond-4 atom-4 atom-5\" d=\"M 158.6,323.9 L 99.9,357.6\" style=\"fill:none;fill-rule:evenodd;stroke:#000000;stroke-width:2.0px;stroke-linecap:butt;stroke-linejoin:miter;stroke-opacity:1\"/>\n",
       "<path class=\"bond-5 atom-5 atom-0\" d=\"M 99.9,371.8 L 29.1,330.9\" style=\"fill:none;fill-rule:evenodd;stroke:#000000;stroke-width:2.0px;stroke-linecap:butt;stroke-linejoin:miter;stroke-opacity:1\"/>\n",
       "<path d=\"M 29.1,326.8 L 29.1,330.9 L 32.7,332.9\" style=\"fill:none;stroke:#000000;stroke-width:2.0px;stroke-linecap:butt;stroke-linejoin:miter;stroke-opacity:1;\"/>\n",
       "<path d=\"M 29.2,253.1 L 29.2,249.0 L 32.7,247.0\" style=\"fill:none;stroke:#000000;stroke-width:2.0px;stroke-linecap:butt;stroke-linejoin:miter;stroke-opacity:1;\"/>\n",
       "<path d=\"M 96.5,210.2 L 100.1,208.2 L 103.6,210.2\" style=\"fill:none;stroke:#000000;stroke-width:2.0px;stroke-linecap:butt;stroke-linejoin:miter;stroke-opacity:1;\"/>\n",
       "<path d=\"M 167.3,247.1 L 170.9,249.1 L 170.9,253.2\" style=\"fill:none;stroke:#000000;stroke-width:2.0px;stroke-linecap:butt;stroke-linejoin:miter;stroke-opacity:1;\"/>\n",
       "<path d=\"M 170.8,326.9 L 170.8,331.0 L 167.3,333.0\" style=\"fill:none;stroke:#000000;stroke-width:2.0px;stroke-linecap:butt;stroke-linejoin:miter;stroke-opacity:1;\"/>\n",
       "<path d=\"M 103.5,369.8 L 99.9,371.8 L 96.4,369.8\" style=\"fill:none;stroke:#000000;stroke-width:2.0px;stroke-linecap:butt;stroke-linejoin:miter;stroke-opacity:1;\"/>\n",
       "<path class=\"legend\" d=\"M 76.0 388.9 Q 77.0 389.2, 77.6 389.9 Q 78.2 390.6, 78.2 391.5 Q 78.2 393.1, 77.1 394.0 Q 76.2 394.9, 74.3 394.9 L 70.5 394.9 L 70.5 383.5 L 73.8 383.5 Q 75.7 383.5, 76.7 384.3 Q 77.7 385.1, 77.7 386.6 Q 77.7 388.3, 76.0 388.9 M 72.0 384.8 L 72.0 388.4 L 73.8 388.4 Q 74.9 388.4, 75.5 387.9 Q 76.1 387.5, 76.1 386.6 Q 76.1 384.8, 73.8 384.8 L 72.0 384.8 M 74.3 393.6 Q 75.4 393.6, 76.0 393.1 Q 76.6 392.5, 76.6 391.5 Q 76.6 390.6, 75.9 390.1 Q 75.3 389.7, 74.0 389.7 L 72.0 389.7 L 72.0 393.6 L 74.3 393.6 \" fill=\"#000000\"/>\n",
       "<path class=\"legend\" d=\"M 79.6 390.7 Q 79.6 388.7, 80.6 387.6 Q 81.6 386.5, 83.5 386.5 Q 85.3 386.5, 86.1 387.6 Q 86.9 388.7, 86.9 390.7 L 86.9 391.0 L 81.1 391.0 Q 81.2 392.3, 81.8 393.1 Q 82.4 393.8, 83.6 393.8 Q 84.2 393.8, 84.8 393.7 Q 85.4 393.5, 86.1 393.2 L 86.6 394.2 Q 85.7 394.6, 85.0 394.8 Q 84.3 395.0, 83.5 395.0 Q 81.6 395.0, 80.6 393.9 Q 79.6 392.8, 79.6 390.7 M 83.5 387.7 Q 82.5 387.7, 81.9 388.2 Q 81.4 388.8, 81.2 389.8 L 85.3 389.8 Q 85.2 388.7, 84.7 388.2 Q 84.3 387.7, 83.5 387.7 \" fill=\"#000000\"/>\n",
       "<path class=\"legend\" d=\"M 92.5 386.5 Q 93.8 386.5, 94.5 387.3 Q 95.2 388.0, 95.2 389.4 L 95.2 394.9 L 93.7 394.9 L 93.7 389.5 Q 93.7 388.6, 93.3 388.1 Q 92.9 387.7, 92.1 387.7 Q 91.4 387.7, 90.7 388.0 Q 90.1 388.4, 89.7 389.0 L 89.7 394.9 L 88.2 394.9 L 88.2 386.6 L 89.4 386.6 L 89.6 387.8 Q 90.7 386.5, 92.5 386.5 \" fill=\"#000000\"/>\n",
       "<path class=\"legend\" d=\"M 98.9 393.7 L 103.5 393.7 L 103.5 394.9 L 97.1 394.9 L 97.1 393.9 L 101.5 387.8 L 97.4 387.8 L 97.4 386.6 L 103.3 386.6 L 103.3 387.6 L 98.9 393.7 \" fill=\"#000000\"/>\n",
       "<path class=\"legend\" d=\"M 104.7 390.7 Q 104.7 388.7, 105.7 387.6 Q 106.7 386.5, 108.6 386.5 Q 110.4 386.5, 111.2 387.6 Q 112.0 388.7, 112.0 390.7 L 112.0 391.0 L 106.3 391.0 Q 106.3 392.3, 106.9 393.1 Q 107.5 393.8, 108.7 393.8 Q 109.4 393.8, 109.9 393.7 Q 110.5 393.5, 111.3 393.2 L 111.7 394.2 Q 110.9 394.6, 110.1 394.8 Q 109.4 395.0, 108.6 395.0 Q 106.8 395.0, 105.8 393.9 Q 104.7 392.8, 104.7 390.7 M 108.6 387.7 Q 107.6 387.7, 107.1 388.2 Q 106.5 388.8, 106.3 389.8 L 110.4 389.8 Q 110.3 388.7, 109.9 388.2 Q 109.4 387.7, 108.6 387.7 \" fill=\"#000000\"/>\n",
       "<path class=\"legend\" d=\"M 117.6 386.5 Q 118.9 386.5, 119.6 387.3 Q 120.3 388.0, 120.3 389.4 L 120.3 394.9 L 118.8 394.9 L 118.8 389.5 Q 118.8 388.6, 118.4 388.1 Q 118.1 387.7, 117.2 387.7 Q 116.5 387.7, 115.9 388.0 Q 115.2 388.4, 114.8 389.0 L 114.8 394.9 L 113.3 394.9 L 113.3 386.6 L 114.6 386.6 L 114.7 387.8 Q 115.8 386.5, 117.6 386.5 \" fill=\"#000000\"/>\n",
       "<path class=\"legend\" d=\"M 122.3 390.7 Q 122.3 388.7, 123.3 387.6 Q 124.3 386.5, 126.1 386.5 Q 127.9 386.5, 128.7 387.6 Q 129.5 388.7, 129.5 390.7 L 129.5 391.0 L 123.8 391.0 Q 123.8 392.3, 124.5 393.1 Q 125.1 393.8, 126.2 393.8 Q 126.9 393.8, 127.5 393.7 Q 128.1 393.5, 128.8 393.2 L 129.2 394.2 Q 128.4 394.6, 127.7 394.8 Q 126.9 395.0, 126.2 395.0 Q 124.3 395.0, 123.3 393.9 Q 122.3 392.8, 122.3 390.7 M 126.1 387.7 Q 125.2 387.7, 124.6 388.2 Q 124.0 388.8, 123.9 389.8 L 128.0 389.8 Q 127.8 388.7, 127.4 388.2 Q 127.0 387.7, 126.1 387.7 \" fill=\"#000000\"/>\n",
       "<path class=\"bond-0 atom-0 atom-1\" d=\"M 294.7,222.3 L 234.2,277.4\" style=\"fill:none;fill-rule:evenodd;stroke:#000000;stroke-width:2.0px;stroke-linecap:butt;stroke-linejoin:miter;stroke-opacity:1\"/>\n",
       "<path class=\"bond-1 atom-1 atom-2\" d=\"M 234.2,277.4 L 267.9,351.9\" style=\"fill:none;fill-rule:evenodd;stroke:#000000;stroke-width:2.0px;stroke-linecap:butt;stroke-linejoin:miter;stroke-opacity:1\"/>\n",
       "<path class=\"bond-1 atom-1 atom-2\" d=\"M 249.1,280.4 L 275.4,338.8\" style=\"fill:none;fill-rule:evenodd;stroke:#000000;stroke-width:2.0px;stroke-linecap:butt;stroke-linejoin:miter;stroke-opacity:1\"/>\n",
       "<path class=\"bond-2 atom-2 atom-3\" d=\"M 267.9,351.9 L 300.7,348.3\" style=\"fill:none;fill-rule:evenodd;stroke:#000000;stroke-width:2.0px;stroke-linecap:butt;stroke-linejoin:miter;stroke-opacity:1\"/>\n",
       "<path class=\"bond-2 atom-2 atom-3\" d=\"M 300.7,348.3 L 333.5,344.7\" style=\"fill:none;fill-rule:evenodd;stroke:#FF0000;stroke-width:2.0px;stroke-linecap:butt;stroke-linejoin:miter;stroke-opacity:1\"/>\n",
       "<path class=\"bond-3 atom-3 atom-4\" d=\"M 352.7,325.9 L 359.3,294.4\" style=\"fill:none;fill-rule:evenodd;stroke:#FF0000;stroke-width:2.0px;stroke-linecap:butt;stroke-linejoin:miter;stroke-opacity:1\"/>\n",
       "<path class=\"bond-3 atom-3 atom-4\" d=\"M 359.3,294.4 L 365.8,262.8\" style=\"fill:none;fill-rule:evenodd;stroke:#000000;stroke-width:2.0px;stroke-linecap:butt;stroke-linejoin:miter;stroke-opacity:1\"/>\n",
       "<path class=\"bond-4 atom-4 atom-0\" d=\"M 365.8,262.8 L 294.7,222.3\" style=\"fill:none;fill-rule:evenodd;stroke:#000000;stroke-width:2.0px;stroke-linecap:butt;stroke-linejoin:miter;stroke-opacity:1\"/>\n",
       "<path class=\"bond-4 atom-4 atom-0\" d=\"M 352.0,269.1 L 296.4,237.4\" style=\"fill:none;fill-rule:evenodd;stroke:#000000;stroke-width:2.0px;stroke-linecap:butt;stroke-linejoin:miter;stroke-opacity:1\"/>\n",
       "<path d=\"M 291.7,225.0 L 294.7,222.3 L 298.3,224.3\" style=\"fill:none;stroke:#000000;stroke-width:2.0px;stroke-linecap:butt;stroke-linejoin:miter;stroke-opacity:1;\"/>\n",
       "<path d=\"M 237.2,274.6 L 234.2,277.4 L 235.9,281.1\" style=\"fill:none;stroke:#000000;stroke-width:2.0px;stroke-linecap:butt;stroke-linejoin:miter;stroke-opacity:1;\"/>\n",
       "<path d=\"M 266.2,348.2 L 267.9,351.9 L 269.5,351.7\" style=\"fill:none;stroke:#000000;stroke-width:2.0px;stroke-linecap:butt;stroke-linejoin:miter;stroke-opacity:1;\"/>\n",
       "<path d=\"M 365.5,264.4 L 365.8,262.8 L 362.2,260.8\" style=\"fill:none;stroke:#000000;stroke-width:2.0px;stroke-linecap:butt;stroke-linejoin:miter;stroke-opacity:1;\"/>\n",
       "<path class=\"atom-3\" d=\"M 336.2 343.0 Q 336.2 336.2, 339.6 332.4 Q 342.9 328.6, 349.2 328.6 Q 355.5 328.6, 358.9 332.4 Q 362.2 336.2, 362.2 343.0 Q 362.2 349.9, 358.8 353.8 Q 355.4 357.7, 349.2 357.7 Q 343.0 357.7, 339.6 353.8 Q 336.2 349.9, 336.2 343.0 M 349.2 354.5 Q 353.5 354.5, 355.9 351.6 Q 358.2 348.7, 358.2 343.0 Q 358.2 337.5, 355.9 334.7 Q 353.5 331.8, 349.2 331.8 Q 344.9 331.8, 342.5 334.6 Q 340.2 337.4, 340.2 343.0 Q 340.2 348.7, 342.5 351.6 Q 344.9 354.5, 349.2 354.5 \" fill=\"#FF0000\"/>\n",
       "<path class=\"legend\" d=\"M 281.0 383.5 L 287.8 383.5 L 287.8 384.8 L 282.6 384.8 L 282.6 388.2 L 287.2 388.2 L 287.2 389.5 L 282.6 389.5 L 282.6 394.8 L 281.0 394.8 L 281.0 383.5 \" fill=\"#000000\"/>\n",
       "<path class=\"legend\" d=\"M 295.8 386.6 L 295.8 394.8 L 294.5 394.8 L 294.4 393.7 Q 293.3 395.0, 291.6 395.0 Q 290.2 395.0, 289.5 394.2 Q 288.8 393.5, 288.8 392.0 L 288.8 386.6 L 290.3 386.6 L 290.3 391.9 Q 290.3 392.9, 290.6 393.3 Q 291.0 393.8, 291.9 393.8 Q 292.6 393.8, 293.2 393.4 Q 293.9 393.1, 294.3 392.5 L 294.3 386.6 L 295.8 386.6 \" fill=\"#000000\"/>\n",
       "<path class=\"legend\" d=\"M 298.9 386.6 L 299.1 387.7 Q 300.0 386.4, 301.4 386.4 Q 301.8 386.4, 302.4 386.6 L 302.2 387.9 Q 301.5 387.8, 301.1 387.8 Q 300.5 387.8, 300.0 388.1 Q 299.6 388.3, 299.2 388.9 L 299.2 394.8 L 297.7 394.8 L 297.7 386.6 L 298.9 386.6 \" fill=\"#000000\"/>\n",
       "<path class=\"legend\" d=\"M 303.3 392.6 Q 303.3 391.3, 304.4 390.6 Q 305.4 389.8, 307.4 389.8 L 308.6 389.8 L 308.6 389.5 Q 308.6 388.5, 308.2 388.1 Q 307.7 387.6, 306.7 387.6 Q 306.1 387.6, 305.5 387.8 Q 305.0 387.9, 304.2 388.2 L 303.8 387.2 Q 305.3 386.4, 306.7 386.4 Q 308.5 386.4, 309.3 387.2 Q 310.1 387.9, 310.1 389.5 L 310.1 394.8 L 308.9 394.8 Q 308.9 394.7, 308.9 394.5 Q 308.8 394.2, 308.7 393.8 Q 307.6 395.0, 306.0 395.0 Q 304.8 395.0, 304.1 394.3 Q 303.3 393.7, 303.3 392.6 M 304.8 392.6 Q 304.8 393.2, 305.2 393.5 Q 305.6 393.8, 306.3 393.8 Q 307.0 393.8, 307.6 393.5 Q 308.2 393.2, 308.6 392.7 L 308.6 391.0 L 307.5 391.0 Q 306.2 391.0, 305.5 391.4 Q 304.8 391.8, 304.8 392.6 \" fill=\"#000000\"/>\n",
       "<path class=\"legend\" d=\"M 316.3 386.4 Q 317.6 386.4, 318.3 387.2 Q 319.0 387.9, 319.0 389.4 L 319.0 394.8 L 317.5 394.8 L 317.5 389.5 Q 317.5 388.5, 317.1 388.1 Q 316.7 387.6, 315.9 387.6 Q 315.1 387.6, 314.5 388.0 Q 313.9 388.3, 313.5 388.9 L 313.5 394.8 L 312.0 394.8 L 312.0 386.6 L 313.2 386.6 L 313.4 387.7 Q 314.5 386.4, 316.3 386.4 \" fill=\"#000000\"/>\n",
       "</svg>"
      ],
      "text/plain": [
       "<IPython.core.display.SVG object>"
      ]
     },
     "execution_count": 25,
     "metadata": {},
     "output_type": "execute_result"
    }
   ],
   "source": [
    "def display_structures(smiles_list):\n",
    "    mol_list = []\n",
    "    name_list = []\n",
    "    for smiles, name in smiles_list:\n",
    "        mol_list.append(Chem.MolFromSmiles(smiles))\n",
    "        name_list.append(name)\n",
    "    return MolsToGridImage(mol_list, legends=name_list, molsPerRow=2)\n",
    "\n",
    "# Example exercise SMILES\n",
    "exercise_smiles = [\n",
    "    (\"C1CCC1\", \"Cyclobutane\"),\n",
    "    (\"c1ccncc1\", \"Pyridine\"),\n",
    "    (\"c1ccccc1\", \"Benzene\"),\n",
    "    (\"c1ccoc1\", \"Furan\"),\n",
    "]\n",
    "\n",
    "display_structures(exercise_smiles)"
   ]
  },
  {
   "cell_type": "markdown",
   "metadata": {},
   "source": [
    "## 10. Advanced Techniques\n",
    "### 10.1 Fingerprint Generation"
   ]
  },
  {
   "cell_type": "code",
   "execution_count": 23,
   "metadata": {},
   "outputs": [
    {
     "name": "stdout",
     "output_type": "stream",
     "text": [
      "Similarity between mol1 and mol2: 1.0\n",
      "Similarity between mol1 and mol3: 0.0\n"
     ]
    }
   ],
   "source": [
    "from rdkit.Chem import AllChem\n",
    "from rdkit import DataStructs\n",
    "\n",
    "# Generate Morgan Fingerprints (Extended Connectivity Fingerprints)\n",
    "mol1 = Chem.MolFromSmiles('CCO')\n",
    "mol2 = Chem.MolFromSmiles('CCO')\n",
    "mol3 = Chem.MolFromSmiles('c1ccccc1')\n",
    "\n",
    "# Generate fingerprints\n",
    "fp1 = AllChem.GetMorganFingerprintAsBitVect(mol1, 2)\n",
    "fp2 = AllChem.GetMorganFingerprintAsBitVect(mol2, 2)\n",
    "fp3 = AllChem.GetMorganFingerprintAsBitVect(mol3, 2)\n",
    "\n",
    "# Calculate similarity\n",
    "similarity_1_2 = DataStructs.TanimotoSimilarity(fp1, fp2)\n",
    "similarity_1_3 = DataStructs.TanimotoSimilarity(fp1, fp3)\n",
    "\n",
    "print(f\"Similarity between mol1 and mol2: {similarity_1_2}\")\n",
    "print(f\"Similarity between mol1 and mol3: {similarity_1_3}\")"
   ]
  },
  {
   "cell_type": "markdown",
   "metadata": {},
   "source": [
    "### 10.2 Conformer Generation"
   ]
  },
  {
   "cell_type": "code",
   "execution_count": 24,
   "metadata": {},
   "outputs": [],
   "source": [
    "# Generate multiple conformers\n",
    "mol = Chem.MolFromSmiles('CCO')\n",
    "mol = Chem.AddHs(mol)\n",
    "\n",
    "# Generate multiple conformers\n",
    "conformers = AllChem.EmbedMultipleConfs(mol, numConfs=10)\n",
    "\n",
    "# Energy minimize conformers\n",
    "for conf in conformers:\n",
    "    AllChem.MMFFOptimizeMolecule(mol, confId=conf)"
   ]
  },
  {
   "cell_type": "code",
   "execution_count": 26,
   "metadata": {},
   "outputs": [
    {
     "name": "stdout",
     "output_type": "stream",
     "text": [
      "Number of unique molecules: 4\n"
     ]
    }
   ],
   "source": [
    "buff = \"\"\"C(=N)(N)N.Cl\n",
    "Cn1c(=O)c2[nH]cnc2n(C)c1=O.Cn1c(=O)c2[nH]cnc2n(C)c1=O.NCCN\n",
    "Nc1ccc(S(=O)(=O)Nc2ccccn2)cc1\n",
    "Cl.N=C(N)N\n",
    "CCC(C)C1(C(=O)NC(=O)[N-]C1=O)CC.[Na+]\n",
    "\"\"\"\n",
    "\n",
    "smiles_list = buff.split(\"\\n\")\n",
    "unique_smiles = set([Chem.MolToSmiles(Chem.MolFromSmiles(sm)) for sm in smiles_list if sm.strip()])\n",
    "print(f\"Number of unique molecules: {len(unique_smiles)}\")"
   ]
  },
  {
   "cell_type": "markdown",
   "metadata": {},
   "source": [
    "\n",
    "## Conclusion\n",
    "This notebook provides a comprehensive overview of RDKit's fundamental capabilities. RDKit is an incredibly powerful library for computational chemistry, offering tools for molecular representation, manipulation, analysis, and visualization.\n",
    "\n",
    "## Recommended Resources\n",
    "- [RDKit Documentation](https://www.rdkit.org/docs/index.html)\n",
    "- [RDKit GitHub Repository](https://github.com/rdkit/rdkit)\n",
    "- [RDKit Tutorials](https://www.rdkit.org/docs/Tutorial.html)\n",
    "\n",
    "## Additional Notes\n",
    "- Always install RDKit in a conda environment for the best compatibility\n",
    "- Keep RDKit and its dependencies updated\n",
    "- Explore the extensive documentation for more advanced features"
   ]
  }
 ],
 "metadata": {
  "kernelspec": {
   "display_name": "myvenv",
   "language": "python",
   "name": "python3"
  },
  "language_info": {
   "codemirror_mode": {
    "name": "ipython",
    "version": 3
   },
   "file_extension": ".py",
   "mimetype": "text/x-python",
   "name": "python",
   "nbconvert_exporter": "python",
   "pygments_lexer": "ipython3",
   "version": "3.11.5"
  }
 },
 "nbformat": 4,
 "nbformat_minor": 2
}
