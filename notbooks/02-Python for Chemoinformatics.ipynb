{
 "cells": [
  {
   "cell_type": "markdown",
   "metadata": {},
   "source": [
    "# Introduction to RDKit in Jupyter Notebook\n",
    "\n",
    "RDKit is a collection of cheminformatics and machine learning tools. It is widely used for tasks such as molecular modeling, chemical informatics, and drug discovery. In this notebook, we'll provide a quick overview of RDKit and how it can be used from a Jupyter notebook.\n",
    "\n",
    "In a Jupyter notebook, there are two types of cells:\n",
    "- **Text cells**: These have a white background and are used for documentation.\n",
    "- **Code cells**: These have a grey background and are used for writing and executing code.\n",
    "\n",
    "If you're working in Google Colab:\n",
    "- Text cells have a grey background.\n",
    "- Code cells have a black background.\n",
    "\n",
    "To execute a code cell, hold down the `Shift` key and hit `Return`. This will execute the code and move to the next cell. In a text cell, `Shift-Return` will simply move the cursor to the next cell."
   ]
  },
  {
   "cell_type": "markdown",
   "metadata": {},
   "source": [
    "\n",
    "## Setting Up Your Environment\n",
    "\n",
    "To ensure that all dependencies are installed and to avoid conflicts with other projects, it's recommended to create a virtual environment. Follow the steps below to create and activate a virtual environment, and install the required packages:\n",
    "\n",
    "1. Create a virtual environment:\n",
    "    ```bash\n",
    "    python3 -m venv myvenv\n",
    "    ```\n",
    "\n",
    "2. Activate the virtual environment:\n",
    "    ```bash\n",
    "    source myvenv/bin/activate\n",
    "    ```\n",
    "\n",
    "3. Install the required packages from `requirements.txt`:\n",
    "    ```bash\n",
    "    pip install -r requirements.txt\n",
    "    ```\n",
    "\n",
    "4. Install the `ipykernel` package:\n",
    "    ```bash\n",
    "    pip install ipykernel\n",
    "    ```\n",
    "\n",
    "5. Add the virtual environment to Jupyter:\n",
    "    ```bash\n",
    "    python -m ipykernel install --user --name=myvenv --display-name \"myvenv\"\n",
    "    ```\n",
    "\n",
    "Now you can select the `myvenv` kernel in Jupyter Notebook to ensure you are using the virtual environment.\n"
   ]
  },
  {
   "cell_type": "markdown",
   "metadata": {},
   "source": [
    "\n",
    "## Importing Necessary Libraries\n",
    "\n",
    "To work with RDKit in this notebook, we need to import several libraries. These libraries will help us with tasks such as chemistry operations, drawing molecular structures, and displaying molecules in a grid. Below are the necessary imports:\n",
    "\n"
   ]
  },
  {
   "cell_type": "code",
   "execution_count": 4,
   "metadata": {},
   "outputs": [
    {
     "name": "stderr",
     "output_type": "stream",
     "text": [
      "Failed to find the pandas get_adjustment() function to patch\n",
      "Failed to patch pandas - PandasTools will have limited functionality\n"
     ]
    }
   ],
   "source": [
    "from rdkit import Chem  # RDKit Chemistry\n",
    "from rdkit.Chem.Draw import IPythonConsole  # RDKit drawing\n",
    "from rdkit.Chem import Draw  # RDKit drawing\n",
    "from rdkit.Chem import rdDepictor  # Improve the quality of structures\n",
    "from rdkit.Chem import PandasTools  # Add the ability to add a molecule to a dataframe\n",
    "import mols2grid  # Display molecules in a grid\n",
    "import requests  # Handle HTTP requests\n",
    "\n",
    "# A few settings to improve the quality of structures\n",
    "IPythonConsole.ipython_useSVG = True\n",
    "rdDepictor.SetPreferCoordGen(True)"
   ]
  },
  {
   "cell_type": "code",
   "execution_count": null,
   "metadata": {},
   "outputs": [],
   "source": []
  }
 ],
 "metadata": {
  "kernelspec": {
   "display_name": "myvenv",
   "language": "python",
   "name": "python3"
  },
  "language_info": {
   "codemirror_mode": {
    "name": "ipython",
    "version": 3
   },
   "file_extension": ".py",
   "mimetype": "text/x-python",
   "name": "python",
   "nbconvert_exporter": "python",
   "pygments_lexer": "ipython3",
   "version": "3.11.5"
  }
 },
 "nbformat": 4,
 "nbformat_minor": 2
}
